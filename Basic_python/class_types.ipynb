{
 "cells": [
  {
   "cell_type": "markdown",
   "metadata": {},
   "source": [
    "Inheritance is capability of a class to inherit the properties from another class\n",
    "\n",
    "Inheritance == drive (taking control of parents properties)\n",
    "\n",
    "Types of Inheritance\n",
    "1. Single       ==  from 1 parent ONLY\n",
    "2. Multiple     ==   from 1+ parents\n",
    "3. Multi_Level  ==   if a class play both parent and child role\n",
    "4. Hierarchical ==   with 1+ child \n",
    "5. Hybrid       ==   mix of any of above "
   ]
  },
  {
   "cell_type": "code",
   "execution_count": null,
   "metadata": {},
   "outputs": [],
   "source": [
    "class Parent():\n",
    "    \"\"\"Parent class/ super class/ base class\"\"\"\n",
    "    def __init__(self, a, b):\n",
    "        self.aaa = a\n",
    "        self.b = b"
   ]
  },
  {
   "cell_type": "code",
   "execution_count": null,
   "metadata": {},
   "outputs": [],
   "source": [
    "class Son_one(Parent):\n",
    "    \"\"\" Sub_class / child class \n",
    "        1. child class inherit(take control over) properties of parent class\n",
    "        2. child class have most priority/importance then parent class then builtin.objects\"\"\"\n",
    "\n",
    "    def addi(self):\n",
    "        \"\"\" Just adding a and b \"\"\"\n",
    "        ab_addi = self.aaa + self.b\n",
    "        return ab_addi"
   ]
  },
  {
   "cell_type": "code",
   "execution_count": null,
   "metadata": {},
   "outputs": [],
   "source": [
    "class Son_two(Parent):\n",
    "\n",
    "    def subs(self):\n",
    "        \"\"\" subtracting a and b\"\"\"\n",
    "        ab_subs = self.aaa - self.b\n",
    "        return ab_subs"
   ]
  },
  {
   "cell_type": "code",
   "execution_count": null,
   "metadata": {},
   "outputs": [],
   "source": [
    "class Grand_son(Son_one):\n",
    "    \"\"\"Priority order [Grand_son > Son > Parent > Builtin.Objects] \n",
    "        1. Multi_Level inheritance\n",
    "        2. Can use properties of all the above classes\"\"\"\n",
    "\n",
    "    def multi_a2(self):\n",
    "        \"\"\" a*2 \"\"\"\n",
    "        ab_mult_a2 = self.addi() - self.b\n",
    "        return ab_mult_a2"
   ]
  },
  {
   "cell_type": "code",
   "execution_count": null,
   "metadata": {},
   "outputs": [],
   "source": [
    "class Common_son(Son_one, Son_two):\n",
    "    \"\"\"1. Multiple inheritance\n",
    "        2. have two class to inheritance\n",
    "        3. need to find the priority order \"\"\"\n",
    "\n",
    "    def multi_b2(self):\n",
    "        ab_mult_b2 = self.addi() - self.subs()\n",
    "        return ab_mult_b2"
   ]
  },
  {
   "cell_type": "code",
   "execution_count": null,
   "metadata": {},
   "outputs": [],
   "source": [
    "# object testing"
   ]
  }
 ],
 "metadata": {
  "kernelspec": {
   "display_name": "Python 3.10.6 64-bit",
   "language": "python",
   "name": "python3"
  },
  "language_info": {
   "name": "python",
   "version": "3.10.6"
  },
  "orig_nbformat": 4,
  "vscode": {
   "interpreter": {
    "hash": "369f2c481f4da34e4445cda3fffd2e751bd1c4d706f27375911949ba6bb62e1c"
   }
  }
 },
 "nbformat": 4,
 "nbformat_minor": 2
}
