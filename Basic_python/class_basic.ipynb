{
 "cells": [
  {
   "cell_type": "code",
   "execution_count": 2,
   "metadata": {},
   "outputs": [],
   "source": [
    "class Robots: # basic class created\n",
    "    pass"
   ]
  },
  {
   "cell_type": "code",
   "execution_count": 3,
   "metadata": {},
   "outputs": [],
   "source": [
    "bot01 = Robots() # object of the class\n",
    "bot01.name = 'some name' # object.variable = value  {field = data attached to the object}\n",
    "bot01.pet_name = 'pet some name'\n",
    "bot01.age = 23"
   ]
  },
  {
   "cell_type": "code",
   "execution_count": 4,
   "metadata": {},
   "outputs": [],
   "source": [
    "bot023 = Robots() # can create n objects\n",
    "bot023.name = 'another bot'\n",
    "bot023.book = 'my_book:\"fun gone\"' # object can have different variable"
   ]
  },
  {
   "cell_type": "code",
   "execution_count": null,
   "metadata": {},
   "outputs": [],
   "source": []
  },
  {
   "cell_type": "code",
   "execution_count": null,
   "metadata": {},
   "outputs": [],
   "source": []
  },
  {
   "cell_type": "code",
   "execution_count": null,
   "metadata": {},
   "outputs": [],
   "source": []
  },
  {
   "cell_type": "code",
   "execution_count": null,
   "metadata": {},
   "outputs": [],
   "source": []
  },
  {
   "cell_type": "code",
   "execution_count": 55,
   "metadata": {},
   "outputs": [
    {
     "data": {
      "text/plain": [
       "'    def subs(self):\\n        ab_subs = self.aaa - self.b\\n        return ab_subs\\n\\n    def mult_by2(self):\\n        ab_mult = self.addi() + self.subs()\\n        return ab_mult\\n\\n    def mult_by0(self):\\n        \\n        ab_0 = (self.addi() + self.subs())*self.famous_num \\n        return ab_0'"
      ]
     },
     "execution_count": 55,
     "metadata": {},
     "output_type": "execute_result"
    }
   ],
   "source": [
    "class Additi(): # parent class/ super class/ base class \n",
    "    \"\"\" to play with 2 numbers\"\"\"\n",
    "    famous_num = 0 # class variable (mostly same for all objects)\n",
    "\n",
    "    def __init__(self, a, b):\n",
    "\n",
    "        self.aaa = a # Instance/Object Variable\n",
    "        self.b = b # mostly different for all objects \n",
    "\n",
    "    def addi(self):\n",
    "        \"\"\"just add\"\"\"\n",
    "        ab_addi = self.aaa + self.b\n",
    "        return ab_addi\n",
    "    "
   ]
  },
  {
   "cell_type": "code",
   "execution_count": 64,
   "metadata": {},
   "outputs": [],
   "source": [
    "class Additi_sub(Additi): # subclass / child class \n",
    "    # child class inherit(take control over) properties of parent class\n",
    "    # child class have most priority/importance then parent class then builtin.objects\n",
    "    \n",
    "    def subs(self):\n",
    "        ab_subs = self.aaa - self.b\n",
    "        return ab_subs\n",
    "\n",
    "    def mult_a2(self):\n",
    "        ab_mult = self.addi() + self.subs()\n",
    "        return ab_mult\n",
    "\n",
    "    def mult_by0(self):\n",
    "        \"\"\" return just 0\"\"\"\n",
    "        ab_0 = (self.addi() + self.subs())*self.famous_num \n",
    "        return ab_0\n"
   ]
  },
  {
   "cell_type": "code",
   "execution_count": 73,
   "metadata": {},
   "outputs": [],
   "source": [
    "class Additi_sub_multi(Additi_sub, Additi):\n",
    "    \n",
    "    def mult_a3(self):\n",
    "        ab_mult_three = self.mult_a2() + self.addi() - self.b\n",
    "        return ab_mult_three"
   ]
  },
  {
   "cell_type": "code",
   "execution_count": 71,
   "metadata": {},
   "outputs": [],
   "source": [
    "class Additi_sub_sub(Additi_sub):\n",
    "\n",
    "    def mult_b2(self):\n",
    "        ab_mult_b2 = self.addi() - self.subs()\n",
    "        return ab_mult_b2"
   ]
  },
  {
   "cell_type": "code",
   "execution_count": 74,
   "metadata": {},
   "outputs": [
    {
     "name": "stdout",
     "output_type": "stream",
     "text": [
      "4\n",
      "15\n",
      "8\n"
     ]
    }
   ],
   "source": [
    "test033 = Additi(2, 2).addi()\n",
    "print(test033)\n",
    "print(Additi_sub_multi(5, 5).mult_a3())\n",
    "print(Additi_sub_sub(2, 4).mult_b2())"
   ]
  },
  {
   "cell_type": "code",
   "execution_count": 75,
   "metadata": {},
   "outputs": [
    {
     "name": "stdout",
     "output_type": "stream",
     "text": [
      "Help on Additi_sub_sub in module __main__ object:\n",
      "\n",
      "class Additi_sub_sub(Additi_sub)\n",
      " |  Additi_sub_sub(a, b)\n",
      " |  \n",
      " |  Method resolution order:\n",
      " |      Additi_sub_sub\n",
      " |      Additi_sub\n",
      " |      Additi\n",
      " |      builtins.object\n",
      " |  \n",
      " |  Methods defined here:\n",
      " |  \n",
      " |  mult_b2(self)\n",
      " |  \n",
      " |  ----------------------------------------------------------------------\n",
      " |  Methods inherited from Additi_sub:\n",
      " |  \n",
      " |  mult_a2(self)\n",
      " |  \n",
      " |  mult_by0(self)\n",
      " |      return just 0\n",
      " |  \n",
      " |  subs(self)\n",
      " |  \n",
      " |  ----------------------------------------------------------------------\n",
      " |  Methods inherited from Additi:\n",
      " |  \n",
      " |  __init__(self, a, b)\n",
      " |      Initialize self.  See help(type(self)) for accurate signature.\n",
      " |  \n",
      " |  addi(self)\n",
      " |      just add\n",
      " |  \n",
      " |  ----------------------------------------------------------------------\n",
      " |  Data descriptors inherited from Additi:\n",
      " |  \n",
      " |  __dict__\n",
      " |      dictionary for instance variables (if defined)\n",
      " |  \n",
      " |  __weakref__\n",
      " |      list of weak references to the object (if defined)\n",
      " |  \n",
      " |  ----------------------------------------------------------------------\n",
      " |  Data and other attributes inherited from Additi:\n",
      " |  \n",
      " |  famous_num = 0\n",
      "\n"
     ]
    }
   ],
   "source": [
    "help(Additi_sub_sub(2, 2))"
   ]
  },
  {
   "cell_type": "code",
   "execution_count": 35,
   "metadata": {},
   "outputs": [
    {
     "name": "stdout",
     "output_type": "stream",
     "text": [
      "4\n",
      "10\n"
     ]
    },
    {
     "data": {
      "text/plain": [
       "'addi worked'"
      ]
     },
     "execution_count": 35,
     "metadata": {},
     "output_type": "execute_result"
    }
   ],
   "source": [
    "test033.addi()\n",
    "#test045.addi()"
   ]
  },
  {
   "cell_type": "code",
   "execution_count": 11,
   "metadata": {},
   "outputs": [],
   "source": [
    "class Runner():\n",
    "    def __init__(self, name, date):\n",
    "        self.full_name = name\n",
    "        self.date = date\n",
    "\n",
    "        name_pices = name.split(' ')\n",
    "        self.first_name = name_pices[0]\n",
    "        self.last_name = name_pices[-1]\n",
    "        print('in inti method')\n",
    "\n",
    "    def conf(self):\n",
    "        print(self.first_name, self.last_name)\n",
    "        print('in conf method')\n"
   ]
  },
  {
   "cell_type": "code",
   "execution_count": 12,
   "metadata": {},
   "outputs": [
    {
     "name": "stdout",
     "output_type": "stream",
     "text": [
      "in inti method\n",
      "raja kumar\n",
      "in conf method\n",
      "in inti method\n"
     ]
    }
   ],
   "source": [
    "num_rum = Runner('raja kumar', 98)\n",
    "num_rum.conf()\n",
    "num_rum.__init__('my full name', 2020)"
   ]
  },
  {
   "cell_type": "code",
   "execution_count": null,
   "metadata": {},
   "outputs": [],
   "source": []
  }
 ],
 "metadata": {
  "kernelspec": {
   "display_name": "Python 3.10.6 64-bit",
   "language": "python",
   "name": "python3"
  },
  "language_info": {
   "codemirror_mode": {
    "name": "ipython",
    "version": 3
   },
   "file_extension": ".py",
   "mimetype": "text/x-python",
   "name": "python",
   "nbconvert_exporter": "python",
   "pygments_lexer": "ipython3",
   "version": "3.10.6"
  },
  "orig_nbformat": 4,
  "vscode": {
   "interpreter": {
    "hash": "369f2c481f4da34e4445cda3fffd2e751bd1c4d706f27375911949ba6bb62e1c"
   }
  }
 },
 "nbformat": 4,
 "nbformat_minor": 2
}
