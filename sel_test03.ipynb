{
 "cells": [
  {
   "cell_type": "code",
   "execution_count": 1,
   "metadata": {},
   "outputs": [],
   "source": [
    "# Selenium imports\n",
    "from selenium import webdriver\n",
    "from selenium.webdriver.common.keys import Keys\n",
    "from selenium.webdriver.common.by import By\n",
    "from selenium.webdriver.support import expected_conditions as EC\n",
    "from selenium.webdriver.support.wait import WebDriverWait\n",
    "\n",
    "# other imports\n",
    "import os\n",
    "import random \n",
    "import time\n",
    "import wget # to save images to computer\n",
    "from webdriver_manager.chrome import ChromeDriverManager"
   ]
  },
  {
   "cell_type": "code",
   "execution_count": 114,
   "metadata": {},
   "outputs": [],
   "source": [
    "from selenium.webdriver.common.action_chains import ActionChains"
   ]
  },
  {
   "cell_type": "code",
   "execution_count": 2,
   "metadata": {},
   "outputs": [
    {
     "name": "stderr",
     "output_type": "stream",
     "text": [
      "C:\\Users\\2me41\\AppData\\Local\\Temp\\ipykernel_10208\\904150596.py:2: DeprecationWarning: executable_path has been deprecated, please pass in a Service object\n",
      "  driv = webdriver.Chrome(wd_path)\n"
     ]
    }
   ],
   "source": [
    "wd_path = r'C:/Users/2me41/Downloads/chromedriver_win32(1)/chromedriver.exe'\n",
    "driv = webdriver.Chrome(wd_path)\n",
    "\n",
    "# tell drive which url to open\n",
    "url = 'https://www.instagram.com/'\n",
    "driv.get(url)"
   ]
  },
  {
   "cell_type": "code",
   "execution_count": 3,
   "metadata": {},
   "outputs": [],
   "source": [
    "# trying to login into page (using By css selector)\n",
    "username = WebDriverWait(driv, 10).until(EC.element_to_be_clickable((By.CSS_SELECTOR, \"input[name='username']\")))\n",
    "password = WebDriverWait(driv, 10).until(EC.element_to_be_clickable((By.CSS_SELECTOR, \"input[name='password']\")))\n",
    "username.clear()\n",
    "password.clear()\n",
    "\n",
    "username.send_keys(\"riya26feb\") # your user name\n",
    "password.send_keys(\"w4h7@6t9e\") # your password\n",
    "\n",
    "# Clicking the login button\n",
    "login = WebDriverWait(driv, 10).until(EC.element_to_be_clickable((By.CSS_SELECTOR, \"button[type='submit']\"))).click()\n",
    "\n",
    "# save your login info? Not Now\n",
    "not_now =  WebDriverWait(driv, 10).until(EC.element_to_be_clickable((By.XPATH, \"//button[contains(text(), 'Not Now')]\"))).click()\n",
    "# turn on notification? Not Now\n",
    "not_now2 =  WebDriverWait(driv, 10).until(EC.element_to_be_clickable((By.XPATH, \"//button[contains(text(), 'Not Now')]\"))).click()"
   ]
  },
  {
   "cell_type": "code",
   "execution_count": 4,
   "metadata": {},
   "outputs": [],
   "source": [
    "# for searching anything \n",
    "searchbox = WebDriverWait(driv, 10).until(EC.element_to_be_clickable((By.XPATH, \"//input[@placeholder='Search']\")))\n",
    "to_search_for = '#abstractart'\n",
    "searchbox.send_keys(to_search_for)"
   ]
  },
  {
   "cell_type": "code",
   "execution_count": 5,
   "metadata": {},
   "outputs": [],
   "source": [
    "# to click enter\n",
    "searchbox.send_keys(Keys.ENTER)"
   ]
  },
  {
   "cell_type": "code",
   "execution_count": 6,
   "metadata": {},
   "outputs": [],
   "source": [
    "# might have to click again\n",
    "searchbox.send_keys(Keys.ENTER)"
   ]
  },
  {
   "cell_type": "code",
   "execution_count": 7,
   "metadata": {},
   "outputs": [
    {
     "data": {
      "text/plain": [
       "33"
      ]
     },
     "execution_count": 7,
     "metadata": {},
     "output_type": "execute_result"
    }
   ],
   "source": [
    "# xpath - //div[@class=\"_aabd _aa8k _aanf\" ]/a[@href]\n",
    "\n",
    "images_link = WebDriverWait(driv, 10).until(EC.presence_of_all_elements_located((By.XPATH, '//div[@class=\"_aabd _aa8k _aanf\" ]/a[@href]'))) \n",
    "images_link = [i.get_attribute('href') for i in images_link]\n",
    "len(images_link)\n"
   ]
  },
  {
   "cell_type": "code",
   "execution_count": 8,
   "metadata": {},
   "outputs": [
    {
     "data": {
      "text/plain": [
       "'https://www.instagram.com/p/ChqSa1Aul1K/'"
      ]
     },
     "execution_count": 8,
     "metadata": {},
     "output_type": "execute_result"
    }
   ],
   "source": [
    "images_link[0]"
   ]
  },
  {
   "cell_type": "code",
   "execution_count": 9,
   "metadata": {},
   "outputs": [],
   "source": [
    "driv.get(images_link[0])"
   ]
  },
  {
   "cell_type": "code",
   "execution_count": 11,
   "metadata": {},
   "outputs": [],
   "source": [
    "# pressing like button\n",
    "WebDriverWait(driv, 10).until(EC.presence_of_element_located((By.XPATH, '//span[@class=\"_aamw\"]/button/div/span'))).click()\n"
   ]
  },
  {
   "cell_type": "code",
   "execution_count": 10,
   "metadata": {},
   "outputs": [],
   "source": [
    "# writing comment\n",
    "WebDriverWait(driv, 10).until(EC.element_to_be_clickable((By.CSS_SELECTOR, \"textarea[placeholder='Add a comment…']\"))).send_keys(\"Wow\")\n",
    "\n",
    "# posting comment\n",
    "WebDriverWait(driv, 10).until(EC.element_to_be_clickable((By.CSS_SELECTOR, \"button[type='submit']\"))).click()"
   ]
  },
  {
   "cell_type": "code",
   "execution_count": 12,
   "metadata": {},
   "outputs": [],
   "source": [
    "driv.get(images_link[1])"
   ]
  },
  {
   "cell_type": "code",
   "execution_count": 13,
   "metadata": {},
   "outputs": [],
   "source": [
    "sample_words = ['lovely', 'pretty', 'appealing', 'gorgeous', 'engaging']\n",
    "# writing comment\n",
    "WebDriverWait(driv, 10).until(EC.element_to_be_clickable((By.CSS_SELECTOR, \"textarea[placeholder='Add a comment…']\"))).send_keys(random.choice(sample_words))\n",
    "\n",
    "# posting comment\n",
    "WebDriverWait(driv, 10).until(EC.element_to_be_clickable((By.CSS_SELECTOR, \"button[type='submit']\"))).click()"
   ]
  },
  {
   "cell_type": "code",
   "execution_count": 33,
   "metadata": {},
   "outputs": [],
   "source": [
    "sub_imag_link = [images_link[i:i + 3] for i in range(0, len(images_link), 3)]\n"
   ]
  },
  {
   "cell_type": "code",
   "execution_count": 36,
   "metadata": {},
   "outputs": [
    {
     "data": {
      "text/plain": [
       "[['https://www.instagram.com/p/ChpVLMKoNs2/',\n",
       "  'https://www.instagram.com/p/Chqnne1uStx/',\n",
       "  'https://www.instagram.com/p/ChpcMzPuGjT/'],\n",
       " ['https://www.instagram.com/p/Chr1tiloAum/',\n",
       "  'https://www.instagram.com/p/Cho6b7vIkU2/',\n",
       "  'https://www.instagram.com/p/ChrfL8oNDlG/']]"
      ]
     },
     "execution_count": 36,
     "metadata": {},
     "output_type": "execute_result"
    }
   ],
   "source": [
    "sub_imag_link[1:3]\n"
   ]
  },
  {
   "cell_type": "code",
   "execution_count": 37,
   "metadata": {},
   "outputs": [
    {
     "name": "stdout",
     "output_type": "stream",
     "text": [
      "https://www.instagram.com/p/Chqnne1uStx/\n",
      "https://www.instagram.com/p/Chr1tiloAum/\n"
     ]
    }
   ],
   "source": [
    "for i in sub_imag_link[1:3]:\n",
    "    print(random.choice(i))"
   ]
  },
  {
   "cell_type": "code",
   "execution_count": 51,
   "metadata": {},
   "outputs": [],
   "source": [
    "sample_words = ['lovely!!', 'pretty!!', 'appealing!!', 'gorgeous!!', 'engaging!!']\n"
   ]
  },
  {
   "cell_type": "code",
   "execution_count": 63,
   "metadata": {},
   "outputs": [],
   "source": [
    "def like_comment(my_list):\n",
    "    sample_words = ['lovely!!', 'pretty!!', 'appealing!!', 'gorgeous!!', 'engaging!!']\n",
    "\n",
    "    for i in my_list:\n",
    "        x = random.choice(i)\n",
    "        driv.get(x)\n",
    "        time.sleep(float('{0:.3f}'.format(random.random()*(3))))\n",
    "        WebDriverWait(driv, 10).until(EC.presence_of_element_located((By.XPATH, '//span[@class=\"_aamw\"]/button/div/span'))).click()\n",
    "        WebDriverWait(driv, 10).until(EC.element_to_be_clickable((By.CSS_SELECTOR, \"textarea[placeholder='Add a comment…']\"))).click()\n",
    "        WebDriverWait(driv, 10).until(EC.element_to_be_clickable((By.CSS_SELECTOR, \"textarea[placeholder='Add a comment…']\"))).send_keys(random.choice(sample_words))\n",
    "        WebDriverWait(driv, 10).until(EC.element_to_be_clickable((By.CSS_SELECTOR, \"button[type='submit']\"))).click()\n",
    "        time.sleep(float('{0:.3f}'.format(random.random()*(3))))\n"
   ]
  },
  {
   "cell_type": "code",
   "execution_count": 64,
   "metadata": {},
   "outputs": [],
   "source": [
    "time.sleep(5)\n",
    "like_comment(sub_imag_link[4:6])\n"
   ]
  },
  {
   "cell_type": "code",
   "execution_count": 59,
   "metadata": {},
   "outputs": [],
   "source": [
    "WebDriverWait(driv, 10).until(EC.presence_of_element_located((By.XPATH, '//span[@class=\"_aamw\"]/button/div/span'))).click()\n",
    "WebDriverWait(driv, 10).until(EC.element_to_be_clickable((By.CSS_SELECTOR, \"textarea[placeholder='Add a comment…']\"))).send_keys(random.choice(sample_words))\n",
    "WebDriverWait(driv, 10).until(EC.element_to_be_clickable((By.CSS_SELECTOR, \"button[type='submit']\"))).click()"
   ]
  },
  {
   "cell_type": "code",
   "execution_count": 62,
   "metadata": {},
   "outputs": [],
   "source": [
    "WebDriverWait(driv, 10).until(EC.presence_of_element_located((By.XPATH, '//span[@class=\"_aamw\"]/button/div/span'))).click()\n",
    "WebDriverWait(driv, 10).until(EC.element_to_be_clickable((By.CSS_SELECTOR, \"textarea[placeholder='Add a comment…']\"))).click()\n",
    "WebDriverWait(driv, 10).until(EC.element_to_be_clickable((By.CSS_SELECTOR, \"textarea[placeholder='Add a comment…']\"))).send_keys(random.choice(sample_words))\n",
    "WebDriverWait(driv, 10).until(EC.element_to_be_clickable((By.CSS_SELECTOR, \"button[type='submit']\"))).click()"
   ]
  },
  {
   "cell_type": "code",
   "execution_count": null,
   "metadata": {},
   "outputs": [],
   "source": [
    "sam_words = '\\nattractive\\npretty\\nhandsome\\ngood-looking\\nnice-looking\\npleasing\\nalluring\\nprepossessing\\nas pretty as a picture\\nlovely\\ncharming\\ndelightful\\nappealing\\nengaging\\nwinsome\\nravishing\\ngorgeous\\nheavenly\\nstunning\\narresting\\nglamorous\\nirresistible\\nbewitching\\nbeguiling\\ngraceful\\nelegant\\nexquisite\\naesthetic\\nartistic\\ndecorative\\nmagnificent\\nbonny\\nhot\\ntasty\\ndivine\\nknockout\\ndrop-dead gorgeous\\nfanciable\\nbeddable\\neasy on the eye\\nfit\\nsmashing\\ncute\\nfoxy\\nbeaut\\nspunky\\nbeauteous\\ncomely\\nfair\\nsightly\\npulchritudinous'\n",
    "#####################################################################################"
   ]
  },
  {
   "cell_type": "code",
   "execution_count": 67,
   "metadata": {},
   "outputs": [
    {
     "data": {
      "text/plain": [
       "'\\nattractive\\npretty\\nhandsome\\ngood-looking\\nnice-looking\\npleasing\\nalluring\\nprepossessing\\nas pretty as a picture\\nlovely\\ncharming\\ndelightful\\nappealing\\nengaging\\nwinsome\\nravishing\\ngorgeous\\nheavenly\\nstunning\\narresting\\nglamorous\\nirresistible\\nbewitching\\nbeguiling\\ngraceful\\nelegant\\nexquisite\\naesthetic\\nartistic\\ndecorative\\nmagnificent\\nbonny\\nhot\\ntasty\\ndivine\\nknockout\\ndrop-dead gorgeous\\nfanciable\\nbeddable\\neasy on the eye\\nfit\\nsmashing\\ncute\\nfoxy\\nbeaut\\nspunky\\nbeauteous\\ncomely\\nfair\\nsightly\\npulchritudinous'"
      ]
     },
     "execution_count": 67,
     "metadata": {},
     "output_type": "execute_result"
    }
   ],
   "source": [
    "sam_words"
   ]
  },
  {
   "cell_type": "code",
   "execution_count": 71,
   "metadata": {},
   "outputs": [
    {
     "data": {
      "text/plain": [
       "51"
      ]
     },
     "execution_count": 71,
     "metadata": {},
     "output_type": "execute_result"
    }
   ],
   "source": [
    "sw = sam_words.split('\\n')\n",
    "sw = sw[1:]\n",
    "len(sw)"
   ]
  },
  {
   "cell_type": "code",
   "execution_count": null,
   "metadata": {},
   "outputs": [],
   "source": []
  },
  {
   "cell_type": "code",
   "execution_count": 73,
   "metadata": {},
   "outputs": [
    {
     "name": "stdout",
     "output_type": "stream",
     "text": [
      "2.442\n",
      "4.442\n"
     ]
    }
   ],
   "source": [
    "time.sleep(2.00 + (float('{0:.3f}'.format(random.random()*(3)))))\n"
   ]
  },
  {
   "cell_type": "code",
   "execution_count": 77,
   "metadata": {},
   "outputs": [],
   "source": [
    "driv.execute_script(\"window.scrollTo(0, 3700)\") # scroll till 9 images"
   ]
  },
  {
   "cell_type": "code",
   "execution_count": 78,
   "metadata": {},
   "outputs": [],
   "source": [
    "driv.execute_script(\"window.scrollTo(3700, 5300)\") # after 9 till more 5 images"
   ]
  },
  {
   "cell_type": "code",
   "execution_count": 102,
   "metadata": {},
   "outputs": [],
   "source": [
    "driv.execute_script(\"window.scrollTo(5300, 9300)\") # 4000 means more 5\n"
   ]
  },
  {
   "cell_type": "code",
   "execution_count": 103,
   "metadata": {},
   "outputs": [],
   "source": [
    "driv.execute_script(\"window.scrollTo(9300, 16300)\") \n"
   ]
  },
  {
   "cell_type": "code",
   "execution_count": 126,
   "metadata": {},
   "outputs": [],
   "source": [
    "action_chain_driv = ActionChains(driv)\n"
   ]
  },
  {
   "cell_type": "code",
   "execution_count": 1,
   "metadata": {},
   "outputs": [
    {
     "ename": "NameError",
     "evalue": "name 'time' is not defined",
     "output_type": "error",
     "traceback": [
      "\u001b[1;31m---------------------------------------------------------------------------\u001b[0m",
      "\u001b[1;31mNameError\u001b[0m                                 Traceback (most recent call last)",
      "\u001b[1;32mc:\\VS_Code_folder\\Selenium_test\\sel_test03.ipynb Cell 32\u001b[0m in \u001b[0;36m<cell line: 1>\u001b[1;34m()\u001b[0m\n\u001b[1;32m----> <a href='vscode-notebook-cell:/c%3A/VS_Code_folder/Selenium_test/sel_test03.ipynb#X43sZmlsZQ%3D%3D?line=0'>1</a>\u001b[0m time\u001b[39m.\u001b[39msleep(\u001b[39m5\u001b[39m)\n\u001b[0;32m      <a href='vscode-notebook-cell:/c%3A/VS_Code_folder/Selenium_test/sel_test03.ipynb#X43sZmlsZQ%3D%3D?line=1'>2</a>\u001b[0m nln1 \u001b[39m=\u001b[39m WebDriverWait(driv, \u001b[39m10\u001b[39m)\u001b[39m.\u001b[39muntil(EC\u001b[39m.\u001b[39mpresence_of_all_elements_located((By\u001b[39m.\u001b[39mXPATH, \u001b[39m'\u001b[39m\u001b[39m//div[@class=\u001b[39m\u001b[39m\"\u001b[39m\u001b[39m_aabd _aa8k _aanf\u001b[39m\u001b[39m\"\u001b[39m\u001b[39m ]/a[@href]\u001b[39m\u001b[39m'\u001b[39m))) \n\u001b[0;32m      <a href='vscode-notebook-cell:/c%3A/VS_Code_folder/Selenium_test/sel_test03.ipynb#X43sZmlsZQ%3D%3D?line=2'>3</a>\u001b[0m nln1 \u001b[39m=\u001b[39m [i\u001b[39m.\u001b[39mget_attribute(\u001b[39m'\u001b[39m\u001b[39mhref\u001b[39m\u001b[39m'\u001b[39m) \u001b[39mfor\u001b[39;00m i \u001b[39min\u001b[39;00m nln1]\n",
      "\u001b[1;31mNameError\u001b[0m: name 'time' is not defined"
     ]
    }
   ],
   "source": [
    "#time.sleep(5)\n",
    "nln1 = WebDriverWait(driv, 10).until(EC.presence_of_all_elements_located((By.XPATH, '//div[@class=\"_aabd _aa8k _aanf\" ]/a[@href]'))) \n",
    "nln1 = [i.get_attribute('href') for i in nln1]\n",
    "hover_path = '[href=\"' + nln1[-1][25:] + '\"]'\n",
    "ele_hover = driv.find_element(By.CSS_SELECTOR, hover_path)\n",
    "time.sleep(2)\n",
    "action_chain_driv.move_to_element(ele_hover).perform()\n",
    "nln1 = nln1[10:]\n",
    "print('nln1:', len(nln1))\n",
    "\n",
    "driv.execute_script(\"window.scrollTo(0, 3700)\") # scroll till 9 lines\n",
    "time.sleep(2.00 + (float('{0:.3f}'.format(random.random()*(3)))))\n",
    "driv.execute_script(\"window.scrollTo(3700, 5300)\") # after 9 till more 5 lines\n",
    "time.sleep(2.00 + (float('{0:.3f}'.format(random.random()*(3)))))\n",
    "\n",
    "nln2 = WebDriverWait(driv, 10).until(EC.presence_of_all_elements_located((By.XPATH, '//div[@class=\"_aabd _aa8k _aanf\" ]/a[@href]'))) \n",
    "nln2 = [i.get_attribute('href') for i in nln2]\n",
    "hover_path = '[href=\"' + nln2[-1][25:] + '\"]'\n",
    "ele_hover = driv.find_element(By.CSS_SELECTOR, hover_path)\n",
    "time.sleep(2)\n",
    "action_chain_driv.move_to_element(ele_hover).perform()\n",
    "nln2 = nln2[10:]\n",
    "print('nln2:', len(nln2))\n",
    "\n",
    "driv.execute_script(\"window.scrollTo(5300, 9300)\") # 4000 means more 5\n",
    "time.sleep(2.00 + (float('{0:.3f}'.format(random.random()*(3)))))\n",
    "driv.execute_script(\"window.scrollTo(9300, 16300)\") \n",
    "time.sleep(2.00 + (float('{0:.3f}'.format(random.random()*(3)))))\n",
    "\n",
    "nln3 = WebDriverWait(driv, 10).until(EC.presence_of_all_elements_located((By.XPATH, '//div[@class=\"_aabd _aa8k _aanf\" ]/a[@href]'))) \n",
    "nln3 = [i.get_attribute('href') for i in nln3]\n",
    "\n",
    "hover_path = '[href=\"' + nln3[-1][25:] + '\"]'\n",
    "ele_hover = driv.find_element(By.CSS_SELECTOR, hover_path)\n",
    "time.sleep(2)\n",
    "action_chain_driv.move_to_element(ele_hover).perform()\n",
    "\n",
    "nln3 = nln3[10:]\n",
    "print('nln3:', len(nln3))"
   ]
  },
  {
   "cell_type": "code",
   "execution_count": null,
   "metadata": {},
   "outputs": [],
   "source": [
    "def taking_links(all_link_list):\n",
    "    some_links = WebDriverWait(driv, 10).until(EC.presence_of_all_elements_located((By.XPATH, '//div[@class=\"_aabd _aa8k _aanf\" ]/a[@href]'))) \n",
    "    some_links = [i.get_attribute('href') for i in some_links]\n",
    "    \n",
    "    hover_path = '[href=\"' + some_links[-1][25:] + '\"]'\n",
    "    ele_hover = driv.find_element(By.CSS_SELECTOR, hover_path)\n",
    "    time.sleep(2)\n",
    "    action_chain_driv.move_to_element(ele_hover).perform()\n",
    "\n",
    "    some_links = some_links[10:]\n",
    "    all_link_list += some_links\n",
    "    "
   ]
  },
  {
   "cell_type": "code",
   "execution_count": null,
   "metadata": {},
   "outputs": [],
   "source": [
    "final_link_list = []\n",
    "taking_links(final_link_list)\n",
    "\n",
    "driv.execute_script(\"window.scrollTo(0, 3700)\") # scroll till 9 lines\n",
    "time.sleep(2.00 + (float('{0:.3f}'.format(random.random()*(3)))))\n",
    "driv.execute_script(\"window.scrollTo(3700, 5300)\") # after 9 till more 5 lines\n",
    "time.sleep(2.00 + (float('{0:.3f}'.format(random.random()*(3)))))\n",
    "\n",
    "taking_links(final_link_list)\n",
    "\n",
    "driv.execute_script(\"window.scrollTo(5300, 9300)\") # 4000 means more 5\n",
    "time.sleep(2.00 + (float('{0:.3f}'.format(random.random()*(3)))))\n",
    "driv.execute_script(\"window.scrollTo(9300, 16300)\") \n",
    "time.sleep(2.00 + (float('{0:.3f}'.format(random.random()*(3))))) # can add more lines\n",
    "\n",
    "taking_links(final_link_list)\n",
    "print(len(final_link_list))"
   ]
  },
  {
   "cell_type": "code",
   "execution_count": 132,
   "metadata": {},
   "outputs": [
    {
     "name": "stdout",
     "output_type": "stream",
     "text": [
      "106\n"
     ]
    }
   ],
   "source": [
    "nnnnn = set(nln1 + nln2 + nln3)\n",
    "nnnnn = list(nnnnn)\n",
    "print(len(nnnnn))\n"
   ]
  },
  {
   "cell_type": "code",
   "execution_count": 125,
   "metadata": {},
   "outputs": [
    {
     "data": {
      "text/plain": [
       "'/p/ChuHgQ9uxEM/'"
      ]
     },
     "execution_count": 125,
     "metadata": {},
     "output_type": "execute_result"
    }
   ],
   "source": [
    "nln1[-1][25:]\n"
   ]
  },
  {
   "cell_type": "code",
   "execution_count": 129,
   "metadata": {},
   "outputs": [
    {
     "data": {
      "text/plain": [
       "'[href=\"/p/ChuHgQ9uxEM/\"]'"
      ]
     },
     "execution_count": 129,
     "metadata": {},
     "output_type": "execute_result"
    }
   ],
   "source": [
    "'[href=\"' + nln2[-1][25:] + '\"]'"
   ]
  },
  {
   "cell_type": "code",
   "execution_count": null,
   "metadata": {},
   "outputs": [],
   "source": [
    "ele_hover = driv.find_element(By.CSS_SELECTOR, nln1[-1][25:])\n",
    "action_chain_driv.move_to_element(ele_hover).perform()"
   ]
  },
  {
   "cell_type": "code",
   "execution_count": null,
   "metadata": {},
   "outputs": [],
   "source": []
  },
  {
   "cell_type": "code",
   "execution_count": null,
   "metadata": {},
   "outputs": [],
   "source": []
  },
  {
   "cell_type": "code",
   "execution_count": null,
   "metadata": {},
   "outputs": [],
   "source": []
  }
 ],
 "metadata": {
  "kernelspec": {
   "display_name": "Python 3.10.6 64-bit",
   "language": "python",
   "name": "python3"
  },
  "language_info": {
   "codemirror_mode": {
    "name": "ipython",
    "version": 3
   },
   "file_extension": ".py",
   "mimetype": "text/x-python",
   "name": "python",
   "nbconvert_exporter": "python",
   "pygments_lexer": "ipython3",
   "version": "3.10.6"
  },
  "orig_nbformat": 4,
  "vscode": {
   "interpreter": {
    "hash": "369f2c481f4da34e4445cda3fffd2e751bd1c4d706f27375911949ba6bb62e1c"
   }
  }
 },
 "nbformat": 4,
 "nbformat_minor": 2
}
