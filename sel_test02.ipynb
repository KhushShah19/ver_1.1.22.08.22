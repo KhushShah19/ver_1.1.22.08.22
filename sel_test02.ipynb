{
 "cells": [
  {
   "cell_type": "code",
   "execution_count": 1,
   "metadata": {},
   "outputs": [],
   "source": [
    "# Selenium imports\n",
    "from selenium import webdriver\n",
    "from selenium.webdriver.common.keys import Keys\n",
    "from selenium.webdriver.common.by import By\n",
    "from selenium.webdriver.support import expected_conditions as EC\n",
    "from selenium.webdriver.support.wait import WebDriverWait\n",
    "\n",
    "# other imports\n",
    "import os\n",
    "import time\n",
    "import wget # to save images to computer\n",
    "from webdriver_manager.chrome import ChromeDriverManager"
   ]
  },
  {
   "cell_type": "code",
   "execution_count": 114,
   "metadata": {},
   "outputs": [
    {
     "name": "stderr",
     "output_type": "stream",
     "text": [
      "C:\\Users\\2me41\\AppData\\Local\\Temp\\ipykernel_16948\\904150596.py:2: DeprecationWarning: executable_path has been deprecated, please pass in a Service object\n",
      "  driv = webdriver.Chrome(wd_path)\n"
     ]
    }
   ],
   "source": [
    "wd_path = r'C:/Users/2me41/Downloads/chromedriver_win32(1)/chromedriver.exe'\n",
    "driv = webdriver.Chrome(wd_path)\n",
    "\n",
    "# tell drive which url to open\n",
    "url = 'https://www.instagram.com/'\n",
    "driv.get(url)"
   ]
  },
  {
   "cell_type": "code",
   "execution_count": 115,
   "metadata": {},
   "outputs": [],
   "source": [
    "# trying to login into page (using By css selector)\n",
    "username = WebDriverWait(driv, 10).until(EC.element_to_be_clickable((By.CSS_SELECTOR, \"input[name='username']\")))\n",
    "password = WebDriverWait(driv, 10).until(EC.element_to_be_clickable((By.CSS_SELECTOR, \"input[name='password']\")))\n",
    "\n",
    "username.clear()\n",
    "password.clear()\n",
    "\n",
    "username.send_keys(\"riya26feb\") # your user name\n",
    "password.send_keys(\"w4h7@6t9e\") # your password\n",
    "\n",
    "# Clicking the login button\n",
    "login = WebDriverWait(driv, 10).until(EC.element_to_be_clickable((By.CSS_SELECTOR, \"button[type='submit']\"))).click()"
   ]
  },
  {
   "cell_type": "code",
   "execution_count": 116,
   "metadata": {},
   "outputs": [],
   "source": [
    "# save your login info? Not Now\n",
    "not_now =  WebDriverWait(driv, 10).until(EC.element_to_be_clickable((By.XPATH, \"//button[contains(text(), 'Not Now')]\"))).click()\n",
    "\n",
    "time.sleep(2) # to wait for next page to load\n",
    "\n",
    "# turn on notification? Not Now\n",
    "not_now2 =  WebDriverWait(driv, 10).until(EC.element_to_be_clickable((By.XPATH, \"//button[contains(text(), 'Not Now')]\"))).click()"
   ]
  },
  {
   "cell_type": "code",
   "execution_count": 12,
   "metadata": {},
   "outputs": [],
   "source": [
    "driv.execute_script(\"window.scrollTo(0,document.body.scrollHeight)\")\n",
    "time.sleep(3)"
   ]
  },
  {
   "cell_type": "code",
   "execution_count": 16,
   "metadata": {},
   "outputs": [],
   "source": [
    "# \n",
    "driv.execute_script(\"window.scrollTo(0, 1200)\")\n"
   ]
  },
  {
   "cell_type": "code",
   "execution_count": 44,
   "metadata": {},
   "outputs": [
    {
     "data": {
      "text/plain": [
       "42"
      ]
     },
     "execution_count": 44,
     "metadata": {},
     "output_type": "execute_result"
    }
   ],
   "source": [
    "# xpath - //div[@class=\"_aabd _aa8k _aanf\" ]/a[@href]\n",
    "\n",
    "images_link = WebDriverWait(driv, 10).until(EC.presence_of_all_elements_located((By.XPATH, '//div[@class=\"_aabd _aa8k _aanf\" ]/a[@href]'))) \n",
    "images_link = [i.get_attribute('href') for i in images_link]\n",
    "len(images_link)\n"
   ]
  },
  {
   "cell_type": "code",
   "execution_count": 47,
   "metadata": {},
   "outputs": [
    {
     "name": "stdout",
     "output_type": "stream",
     "text": [
      "https://www.instagram.com/p/ChUpmgXLjCz/\n",
      "<class 'str'>\n"
     ]
    }
   ],
   "source": [
    "print(images_link[2])\n",
    "print(type(images_link[2]))"
   ]
  },
  {
   "cell_type": "code",
   "execution_count": 81,
   "metadata": {},
   "outputs": [
    {
     "data": {
      "text/plain": [
       "'https://www.instagram.com/p/ChUpmgXLjCz/'"
      ]
     },
     "execution_count": 81,
     "metadata": {},
     "output_type": "execute_result"
    }
   ],
   "source": [
    "given_url = images_link[2]\n",
    "given_url"
   ]
  },
  {
   "cell_type": "code",
   "execution_count": 82,
   "metadata": {},
   "outputs": [],
   "source": [
    "import random \n"
   ]
  },
  {
   "cell_type": "code",
   "execution_count": null,
   "metadata": {},
   "outputs": [],
   "source": [
    "sample_words = ['lovely', 'pretty', 'appealing', 'gorgeous', 'engaging']\n",
    "print(random.choice(sample_words))"
   ]
  },
  {
   "cell_type": "code",
   "execution_count": 87,
   "metadata": {},
   "outputs": [
    {
     "data": {
      "text/plain": [
       "3"
      ]
     },
     "execution_count": 87,
     "metadata": {},
     "output_type": "execute_result"
    }
   ],
   "source": [
    "ran_num = random.randint(1, 5)\n",
    "ran_num\n",
    "ran_float = float('{0:.4f}'.format(random.random()*(5)))\n",
    "ran_float"
   ]
  },
  {
   "cell_type": "code",
   "execution_count": 128,
   "metadata": {},
   "outputs": [],
   "source": [
    "driv.back() \n",
    "driv.forward()  # not working"
   ]
  },
  {
   "cell_type": "code",
   "execution_count": 56,
   "metadata": {},
   "outputs": [],
   "source": [
    "driv.execute_script('''window.open(\"http://google.com\",\"_blank\");''')\n",
    "driv.execute_script('''window.open(\"http://google.com\");''') # to open new window with google\n",
    "\n",
    "driv.execute_script('''window.open(\"https://www.instagram.com\");''') # worked\n",
    "\n",
    "driv.get(given_url) # worked\n",
    "\n",
    "a = driv.execute_script(\"window.open('https://www.instagram.com');\") # worked\n",
    "driv.get(a)\n",
    "\n",
    "driv.switch_to.new_window(\"tab\") # worked\n",
    "driv.get(given_url) # worked"
   ]
  },
  {
   "cell_type": "code",
   "execution_count": 137,
   "metadata": {},
   "outputs": [
    {
     "ename": "NoSuchWindowException",
     "evalue": "Message: no such window: window was already closed\n  (Session info: chrome=104.0.5112.82)\nStacktrace:\nBacktrace:\n\tOrdinal0 [0x00EE78B3+2193587]\n\tOrdinal0 [0x00E80681+1771137]\n\tOrdinal0 [0x00D941A8+803240]\n\tOrdinal0 [0x00D7D767+710503]\n\tOrdinal0 [0x00D81142+725314]\n\tOrdinal0 [0x00D855C9+742857]\n\tOrdinal0 [0x00D95500+808192]\n\tOrdinal0 [0x00DED2C2+1168066]\n\tOrdinal0 [0x00DDD5C6+1103302]\n\tOrdinal0 [0x00DB77E0+948192]\n\tOrdinal0 [0x00DB86E6+952038]\n\tGetHandleVerifier [0x01190CB2+2738370]\n\tGetHandleVerifier [0x011821B8+2678216]\n\tGetHandleVerifier [0x00F717AA+512954]\n\tGetHandleVerifier [0x00F70856+509030]\n\tOrdinal0 [0x00E8743B+1799227]\n\tOrdinal0 [0x00E8BB68+1817448]\n\tOrdinal0 [0x00E8BC55+1817685]\n\tOrdinal0 [0x00E95230+1856048]\n\tBaseThreadInitThunk [0x75DA6739+25]\n\tRtlGetFullPathName_UEx [0x77658FEF+1215]\n\tRtlGetFullPathName_UEx [0x77658FBD+1165]\n",
     "output_type": "error",
     "traceback": [
      "\u001b[1;31m---------------------------------------------------------------------------\u001b[0m",
      "\u001b[1;31mNoSuchWindowException\u001b[0m                     Traceback (most recent call last)",
      "\u001b[1;32mc:\\VS_Code_folder\\Selenium_test\\sel_test02.ipynb Cell 15\u001b[0m in \u001b[0;36m<cell line: 2>\u001b[1;34m()\u001b[0m\n\u001b[0;32m      <a href='vscode-notebook-cell:/c%3A/VS_Code_folder/Selenium_test/sel_test02.ipynb#ch0000062?line=0'>1</a>\u001b[0m \u001b[39m# //span[@aria-lable='Like']  ==> CSS = svg[aria-label=\"Like\"]\u001b[39;00m\n\u001b[1;32m----> <a href='vscode-notebook-cell:/c%3A/VS_Code_folder/Selenium_test/sel_test02.ipynb#ch0000062?line=1'>2</a>\u001b[0m press_like \u001b[39m=\u001b[39m WebDriverWait(driv, \u001b[39m10\u001b[39;49m)\u001b[39m.\u001b[39;49muntil(EC\u001b[39m.\u001b[39;49melement_to_be_clickable((By\u001b[39m.\u001b[39;49mXPATH, \u001b[39m'\u001b[39;49m\u001b[39m//span[@class=\u001b[39;49m\u001b[39m\"\u001b[39;49m\u001b[39m_aamw\u001b[39;49m\u001b[39m\"\u001b[39;49m\u001b[39m]/button\u001b[39;49m\u001b[39m'\u001b[39;49m)))\u001b[39m.\u001b[39mclick()\n",
      "File \u001b[1;32mc:\\Python310\\lib\\site-packages\\selenium\\webdriver\\support\\wait.py:81\u001b[0m, in \u001b[0;36mWebDriverWait.until\u001b[1;34m(self, method, message)\u001b[0m\n\u001b[0;32m     79\u001b[0m \u001b[39mwhile\u001b[39;00m \u001b[39mTrue\u001b[39;00m:\n\u001b[0;32m     80\u001b[0m     \u001b[39mtry\u001b[39;00m:\n\u001b[1;32m---> 81\u001b[0m         value \u001b[39m=\u001b[39m method(\u001b[39mself\u001b[39;49m\u001b[39m.\u001b[39;49m_driver)\n\u001b[0;32m     82\u001b[0m         \u001b[39mif\u001b[39;00m value:\n\u001b[0;32m     83\u001b[0m             \u001b[39mreturn\u001b[39;00m value\n",
      "File \u001b[1;32mc:\\Python310\\lib\\site-packages\\selenium\\webdriver\\support\\expected_conditions.py:312\u001b[0m, in \u001b[0;36melement_to_be_clickable.<locals>._predicate\u001b[1;34m(driver)\u001b[0m\n\u001b[0;32m    310\u001b[0m target \u001b[39m=\u001b[39m mark\n\u001b[0;32m    311\u001b[0m \u001b[39mif\u001b[39;00m \u001b[39mnot\u001b[39;00m \u001b[39misinstance\u001b[39m(target, WebElement):  \u001b[39m# if given locator instead of WebElement\u001b[39;00m\n\u001b[1;32m--> 312\u001b[0m     target \u001b[39m=\u001b[39m driver\u001b[39m.\u001b[39;49mfind_element(\u001b[39m*\u001b[39;49mtarget)  \u001b[39m# grab element at locator\u001b[39;00m\n\u001b[0;32m    313\u001b[0m target \u001b[39m=\u001b[39m visibility_of(target)(driver)\n\u001b[0;32m    314\u001b[0m \u001b[39mif\u001b[39;00m target \u001b[39mand\u001b[39;00m target\u001b[39m.\u001b[39mis_enabled():\n",
      "File \u001b[1;32mc:\\Python310\\lib\\site-packages\\selenium\\webdriver\\remote\\webdriver.py:857\u001b[0m, in \u001b[0;36mWebDriver.find_element\u001b[1;34m(self, by, value)\u001b[0m\n\u001b[0;32m    854\u001b[0m     by \u001b[39m=\u001b[39m By\u001b[39m.\u001b[39mCSS_SELECTOR\n\u001b[0;32m    855\u001b[0m     value \u001b[39m=\u001b[39m \u001b[39m'\u001b[39m\u001b[39m[name=\u001b[39m\u001b[39m\"\u001b[39m\u001b[39m%s\u001b[39;00m\u001b[39m\"\u001b[39m\u001b[39m]\u001b[39m\u001b[39m'\u001b[39m \u001b[39m%\u001b[39m value\n\u001b[1;32m--> 857\u001b[0m \u001b[39mreturn\u001b[39;00m \u001b[39mself\u001b[39;49m\u001b[39m.\u001b[39;49mexecute(Command\u001b[39m.\u001b[39;49mFIND_ELEMENT, {\n\u001b[0;32m    858\u001b[0m     \u001b[39m'\u001b[39;49m\u001b[39musing\u001b[39;49m\u001b[39m'\u001b[39;49m: by,\n\u001b[0;32m    859\u001b[0m     \u001b[39m'\u001b[39;49m\u001b[39mvalue\u001b[39;49m\u001b[39m'\u001b[39;49m: value})[\u001b[39m'\u001b[39m\u001b[39mvalue\u001b[39m\u001b[39m'\u001b[39m]\n",
      "File \u001b[1;32mc:\\Python310\\lib\\site-packages\\selenium\\webdriver\\remote\\webdriver.py:435\u001b[0m, in \u001b[0;36mWebDriver.execute\u001b[1;34m(self, driver_command, params)\u001b[0m\n\u001b[0;32m    433\u001b[0m response \u001b[39m=\u001b[39m \u001b[39mself\u001b[39m\u001b[39m.\u001b[39mcommand_executor\u001b[39m.\u001b[39mexecute(driver_command, params)\n\u001b[0;32m    434\u001b[0m \u001b[39mif\u001b[39;00m response:\n\u001b[1;32m--> 435\u001b[0m     \u001b[39mself\u001b[39;49m\u001b[39m.\u001b[39;49merror_handler\u001b[39m.\u001b[39;49mcheck_response(response)\n\u001b[0;32m    436\u001b[0m     response[\u001b[39m'\u001b[39m\u001b[39mvalue\u001b[39m\u001b[39m'\u001b[39m] \u001b[39m=\u001b[39m \u001b[39mself\u001b[39m\u001b[39m.\u001b[39m_unwrap_value(\n\u001b[0;32m    437\u001b[0m         response\u001b[39m.\u001b[39mget(\u001b[39m'\u001b[39m\u001b[39mvalue\u001b[39m\u001b[39m'\u001b[39m, \u001b[39mNone\u001b[39;00m))\n\u001b[0;32m    438\u001b[0m     \u001b[39mreturn\u001b[39;00m response\n",
      "File \u001b[1;32mc:\\Python310\\lib\\site-packages\\selenium\\webdriver\\remote\\errorhandler.py:247\u001b[0m, in \u001b[0;36mErrorHandler.check_response\u001b[1;34m(self, response)\u001b[0m\n\u001b[0;32m    245\u001b[0m         alert_text \u001b[39m=\u001b[39m value[\u001b[39m'\u001b[39m\u001b[39malert\u001b[39m\u001b[39m'\u001b[39m]\u001b[39m.\u001b[39mget(\u001b[39m'\u001b[39m\u001b[39mtext\u001b[39m\u001b[39m'\u001b[39m)\n\u001b[0;32m    246\u001b[0m     \u001b[39mraise\u001b[39;00m exception_class(message, screen, stacktrace, alert_text)  \u001b[39m# type: ignore[call-arg]  # mypy is not smart enough here\u001b[39;00m\n\u001b[1;32m--> 247\u001b[0m \u001b[39mraise\u001b[39;00m exception_class(message, screen, stacktrace)\n",
      "\u001b[1;31mNoSuchWindowException\u001b[0m: Message: no such window: window was already closed\n  (Session info: chrome=104.0.5112.82)\nStacktrace:\nBacktrace:\n\tOrdinal0 [0x00EE78B3+2193587]\n\tOrdinal0 [0x00E80681+1771137]\n\tOrdinal0 [0x00D941A8+803240]\n\tOrdinal0 [0x00D7D767+710503]\n\tOrdinal0 [0x00D81142+725314]\n\tOrdinal0 [0x00D855C9+742857]\n\tOrdinal0 [0x00D95500+808192]\n\tOrdinal0 [0x00DED2C2+1168066]\n\tOrdinal0 [0x00DDD5C6+1103302]\n\tOrdinal0 [0x00DB77E0+948192]\n\tOrdinal0 [0x00DB86E6+952038]\n\tGetHandleVerifier [0x01190CB2+2738370]\n\tGetHandleVerifier [0x011821B8+2678216]\n\tGetHandleVerifier [0x00F717AA+512954]\n\tGetHandleVerifier [0x00F70856+509030]\n\tOrdinal0 [0x00E8743B+1799227]\n\tOrdinal0 [0x00E8BB68+1817448]\n\tOrdinal0 [0x00E8BC55+1817685]\n\tOrdinal0 [0x00E95230+1856048]\n\tBaseThreadInitThunk [0x75DA6739+25]\n\tRtlGetFullPathName_UEx [0x77658FEF+1215]\n\tRtlGetFullPathName_UEx [0x77658FBD+1165]\n"
     ]
    }
   ],
   "source": [
    "# //span[@aria-lable='Like']  ==> CSS = svg[aria-label=\"Like\"]\n",
    "press_like = WebDriverWait(driv, 10).until(EC.element_to_be_clickable((By.XPATH, '//span[@class=\"_aamw\"]/button'))).click()\n",
    "# pressing like button"
   ]
  },
  {
   "cell_type": "code",
   "execution_count": 148,
   "metadata": {},
   "outputs": [
    {
     "ename": "NoSuchWindowException",
     "evalue": "Message: no such window: window was already closed\n  (Session info: chrome=104.0.5112.82)\nStacktrace:\nBacktrace:\n\tOrdinal0 [0x00EE78B3+2193587]\n\tOrdinal0 [0x00E80681+1771137]\n\tOrdinal0 [0x00D941A8+803240]\n\tOrdinal0 [0x00D7D767+710503]\n\tOrdinal0 [0x00D81142+725314]\n\tOrdinal0 [0x00D855C9+742857]\n\tOrdinal0 [0x00D95500+808192]\n\tOrdinal0 [0x00DED2C2+1168066]\n\tOrdinal0 [0x00DDD5C6+1103302]\n\tOrdinal0 [0x00DB77E0+948192]\n\tOrdinal0 [0x00DB86E6+952038]\n\tGetHandleVerifier [0x01190CB2+2738370]\n\tGetHandleVerifier [0x011821B8+2678216]\n\tGetHandleVerifier [0x00F717AA+512954]\n\tGetHandleVerifier [0x00F70856+509030]\n\tOrdinal0 [0x00E8743B+1799227]\n\tOrdinal0 [0x00E8BB68+1817448]\n\tOrdinal0 [0x00E8BC55+1817685]\n\tOrdinal0 [0x00E95230+1856048]\n\tBaseThreadInitThunk [0x75DA6739+25]\n\tRtlGetFullPathName_UEx [0x77658FEF+1215]\n\tRtlGetFullPathName_UEx [0x77658FBD+1165]\n",
     "output_type": "error",
     "traceback": [
      "\u001b[1;31m---------------------------------------------------------------------------\u001b[0m",
      "\u001b[1;31mNoSuchWindowException\u001b[0m                     Traceback (most recent call last)",
      "\u001b[1;32mc:\\VS_Code_folder\\Selenium_test\\sel_test02.ipynb Cell 16\u001b[0m in \u001b[0;36m<cell line: 1>\u001b[1;34m()\u001b[0m\n\u001b[1;32m----> <a href='vscode-notebook-cell:/c%3A/VS_Code_folder/Selenium_test/sel_test02.ipynb#ch0000061?line=0'>1</a>\u001b[0m press_like \u001b[39m=\u001b[39m WebDriverWait(driv, \u001b[39m10\u001b[39;49m)\u001b[39m.\u001b[39;49muntil(EC\u001b[39m.\u001b[39;49mpresence_of_element_located((By\u001b[39m.\u001b[39;49mXPATH, \u001b[39m'\u001b[39;49m\u001b[39m//span[@class=\u001b[39;49m\u001b[39m\"\u001b[39;49m\u001b[39m_aamw\u001b[39;49m\u001b[39m\"\u001b[39;49m\u001b[39m]/button/div/span\u001b[39;49m\u001b[39m'\u001b[39;49m)))\n\u001b[0;32m      <a href='vscode-notebook-cell:/c%3A/VS_Code_folder/Selenium_test/sel_test02.ipynb#ch0000061?line=1'>2</a>\u001b[0m press_like\u001b[39m.\u001b[39mclick()\n",
      "File \u001b[1;32mc:\\Python310\\lib\\site-packages\\selenium\\webdriver\\support\\wait.py:81\u001b[0m, in \u001b[0;36mWebDriverWait.until\u001b[1;34m(self, method, message)\u001b[0m\n\u001b[0;32m     79\u001b[0m \u001b[39mwhile\u001b[39;00m \u001b[39mTrue\u001b[39;00m:\n\u001b[0;32m     80\u001b[0m     \u001b[39mtry\u001b[39;00m:\n\u001b[1;32m---> 81\u001b[0m         value \u001b[39m=\u001b[39m method(\u001b[39mself\u001b[39;49m\u001b[39m.\u001b[39;49m_driver)\n\u001b[0;32m     82\u001b[0m         \u001b[39mif\u001b[39;00m value:\n\u001b[0;32m     83\u001b[0m             \u001b[39mreturn\u001b[39;00m value\n",
      "File \u001b[1;32mc:\\Python310\\lib\\site-packages\\selenium\\webdriver\\support\\expected_conditions.py:64\u001b[0m, in \u001b[0;36mpresence_of_element_located.<locals>._predicate\u001b[1;34m(driver)\u001b[0m\n\u001b[0;32m     63\u001b[0m \u001b[39mdef\u001b[39;00m \u001b[39m_predicate\u001b[39m(driver):\n\u001b[1;32m---> 64\u001b[0m     \u001b[39mreturn\u001b[39;00m driver\u001b[39m.\u001b[39;49mfind_element(\u001b[39m*\u001b[39;49mlocator)\n",
      "File \u001b[1;32mc:\\Python310\\lib\\site-packages\\selenium\\webdriver\\remote\\webdriver.py:857\u001b[0m, in \u001b[0;36mWebDriver.find_element\u001b[1;34m(self, by, value)\u001b[0m\n\u001b[0;32m    854\u001b[0m     by \u001b[39m=\u001b[39m By\u001b[39m.\u001b[39mCSS_SELECTOR\n\u001b[0;32m    855\u001b[0m     value \u001b[39m=\u001b[39m \u001b[39m'\u001b[39m\u001b[39m[name=\u001b[39m\u001b[39m\"\u001b[39m\u001b[39m%s\u001b[39;00m\u001b[39m\"\u001b[39m\u001b[39m]\u001b[39m\u001b[39m'\u001b[39m \u001b[39m%\u001b[39m value\n\u001b[1;32m--> 857\u001b[0m \u001b[39mreturn\u001b[39;00m \u001b[39mself\u001b[39;49m\u001b[39m.\u001b[39;49mexecute(Command\u001b[39m.\u001b[39;49mFIND_ELEMENT, {\n\u001b[0;32m    858\u001b[0m     \u001b[39m'\u001b[39;49m\u001b[39musing\u001b[39;49m\u001b[39m'\u001b[39;49m: by,\n\u001b[0;32m    859\u001b[0m     \u001b[39m'\u001b[39;49m\u001b[39mvalue\u001b[39;49m\u001b[39m'\u001b[39;49m: value})[\u001b[39m'\u001b[39m\u001b[39mvalue\u001b[39m\u001b[39m'\u001b[39m]\n",
      "File \u001b[1;32mc:\\Python310\\lib\\site-packages\\selenium\\webdriver\\remote\\webdriver.py:435\u001b[0m, in \u001b[0;36mWebDriver.execute\u001b[1;34m(self, driver_command, params)\u001b[0m\n\u001b[0;32m    433\u001b[0m response \u001b[39m=\u001b[39m \u001b[39mself\u001b[39m\u001b[39m.\u001b[39mcommand_executor\u001b[39m.\u001b[39mexecute(driver_command, params)\n\u001b[0;32m    434\u001b[0m \u001b[39mif\u001b[39;00m response:\n\u001b[1;32m--> 435\u001b[0m     \u001b[39mself\u001b[39;49m\u001b[39m.\u001b[39;49merror_handler\u001b[39m.\u001b[39;49mcheck_response(response)\n\u001b[0;32m    436\u001b[0m     response[\u001b[39m'\u001b[39m\u001b[39mvalue\u001b[39m\u001b[39m'\u001b[39m] \u001b[39m=\u001b[39m \u001b[39mself\u001b[39m\u001b[39m.\u001b[39m_unwrap_value(\n\u001b[0;32m    437\u001b[0m         response\u001b[39m.\u001b[39mget(\u001b[39m'\u001b[39m\u001b[39mvalue\u001b[39m\u001b[39m'\u001b[39m, \u001b[39mNone\u001b[39;00m))\n\u001b[0;32m    438\u001b[0m     \u001b[39mreturn\u001b[39;00m response\n",
      "File \u001b[1;32mc:\\Python310\\lib\\site-packages\\selenium\\webdriver\\remote\\errorhandler.py:247\u001b[0m, in \u001b[0;36mErrorHandler.check_response\u001b[1;34m(self, response)\u001b[0m\n\u001b[0;32m    245\u001b[0m         alert_text \u001b[39m=\u001b[39m value[\u001b[39m'\u001b[39m\u001b[39malert\u001b[39m\u001b[39m'\u001b[39m]\u001b[39m.\u001b[39mget(\u001b[39m'\u001b[39m\u001b[39mtext\u001b[39m\u001b[39m'\u001b[39m)\n\u001b[0;32m    246\u001b[0m     \u001b[39mraise\u001b[39;00m exception_class(message, screen, stacktrace, alert_text)  \u001b[39m# type: ignore[call-arg]  # mypy is not smart enough here\u001b[39;00m\n\u001b[1;32m--> 247\u001b[0m \u001b[39mraise\u001b[39;00m exception_class(message, screen, stacktrace)\n",
      "\u001b[1;31mNoSuchWindowException\u001b[0m: Message: no such window: window was already closed\n  (Session info: chrome=104.0.5112.82)\nStacktrace:\nBacktrace:\n\tOrdinal0 [0x00EE78B3+2193587]\n\tOrdinal0 [0x00E80681+1771137]\n\tOrdinal0 [0x00D941A8+803240]\n\tOrdinal0 [0x00D7D767+710503]\n\tOrdinal0 [0x00D81142+725314]\n\tOrdinal0 [0x00D855C9+742857]\n\tOrdinal0 [0x00D95500+808192]\n\tOrdinal0 [0x00DED2C2+1168066]\n\tOrdinal0 [0x00DDD5C6+1103302]\n\tOrdinal0 [0x00DB77E0+948192]\n\tOrdinal0 [0x00DB86E6+952038]\n\tGetHandleVerifier [0x01190CB2+2738370]\n\tGetHandleVerifier [0x011821B8+2678216]\n\tGetHandleVerifier [0x00F717AA+512954]\n\tGetHandleVerifier [0x00F70856+509030]\n\tOrdinal0 [0x00E8743B+1799227]\n\tOrdinal0 [0x00E8BB68+1817448]\n\tOrdinal0 [0x00E8BC55+1817685]\n\tOrdinal0 [0x00E95230+1856048]\n\tBaseThreadInitThunk [0x75DA6739+25]\n\tRtlGetFullPathName_UEx [0x77658FEF+1215]\n\tRtlGetFullPathName_UEx [0x77658FBD+1165]\n"
     ]
    }
   ],
   "source": [
    "press_like = WebDriverWait(driv, 10).until(EC.presence_of_element_located((By.XPATH, '//span[@class=\"_aamw\"]/button/div/span')))\n",
    "press_like.click()\n"
   ]
  },
  {
   "cell_type": "code",
   "execution_count": null,
   "metadata": {},
   "outputs": [],
   "source": []
  },
  {
   "cell_type": "code",
   "execution_count": null,
   "metadata": {},
   "outputs": [],
   "source": []
  }
 ],
 "metadata": {
  "kernelspec": {
   "display_name": "Python 3.10.6 64-bit",
   "language": "python",
   "name": "python3"
  },
  "language_info": {
   "codemirror_mode": {
    "name": "ipython",
    "version": 3
   },
   "file_extension": ".py",
   "mimetype": "text/x-python",
   "name": "python",
   "nbconvert_exporter": "python",
   "pygments_lexer": "ipython3",
   "version": "3.10.6"
  },
  "orig_nbformat": 4,
  "vscode": {
   "interpreter": {
    "hash": "369f2c481f4da34e4445cda3fffd2e751bd1c4d706f27375911949ba6bb62e1c"
   }
  }
 },
 "nbformat": 4,
 "nbformat_minor": 2
}
