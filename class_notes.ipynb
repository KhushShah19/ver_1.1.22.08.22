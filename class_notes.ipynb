{
 "cells": [
  {
   "cell_type": "code",
   "execution_count": null,
   "metadata": {},
   "outputs": [],
   "source": [
    "class Notes:\n",
    "    \"\"\" Importance things in class\n",
    "        1. Attributes == variables that belong to a class\n",
    "        2. Behaviour == methods (def function inside a class)\n",
    "        3. Instance == objects \n",
    "        4. init == initialzation or constructor\n",
    "        5. self == it refer to object that's using the def function (default option)\n",
    "            Object.method(arg1, arg2) => my_class.method(Object, arg1, arg2)\"\"\"\n",
    "\n",
    "    my_notes = \"the notes\" # class variable {variable = value}\n",
    "\n",
    "    def __init__(self):\n",
    "        #\"\"\"constructing an object (Not compulsory to use)\"\"\"\n",
    "\n",
    "        print(\"we are in class Notes\") # whenever an object is created, it will run this "
   ]
  },
  {
   "cell_type": "code",
   "execution_count": null,
   "metadata": {},
   "outputs": [],
   "source": [
    "# Object = Class_name() (creating/init a object)\n",
    "object_notes = Notes()\n",
    "\n",
    "# Object.variable = value (storing the variable in object)\n",
    "# {variable = value} = feild == data attched to the object\n",
    "object_notes.my_notes = \"notes changed\"\n",
    "# Object.my_method(arg1, arg2) => my_class.method(Object, arg1, arg2)\n",
    "\n",
    "object_notes2 = Notes() # n objects can be created\n",
    "object_notes2.__init__() "
   ]
  },
  {
   "cell_type": "code",
   "execution_count": null,
   "metadata": {},
   "outputs": [],
   "source": []
  },
  {
   "cell_type": "code",
   "execution_count": null,
   "metadata": {},
   "outputs": [],
   "source": [
    "class Calcus():\n",
    "    \"\"\" to play with 2 numbers\"\"\"\n",
    "    famous_num = 0 # class variable (mostly same for all objects)\n",
    "\n",
    "    def __init__(self, a, b):\n",
    "\n",
    "        self.aaa = a # Instance/Object Variable\n",
    "        self.b = b # mostly different for all objects \n",
    "\n",
    "    def addi(self):\n",
    "        \"\"\"just add\"\"\"\n",
    "        ab_addi = self.aaa + self.b\n",
    "        return ab_addi\n",
    "    \n",
    "    def subs(self):\n",
    "        ab_subs = self.aaa - self.b\n",
    "        return ab_subs\n",
    "\n",
    "    def mult_by2(self): \n",
    "        \"\"\" *2 \"\"\"\n",
    "        ab_mult = self.addi() + self.subs()\n",
    "        return ab_mult\n",
    "\n",
    "    def mult_by0(self):\n",
    "        \"\"\" return just 0\"\"\"\n",
    "        ab_0 = (self.addi() + self.subs())*self.famous_num \n",
    "        return ab_0\n"
   ]
  },
  {
   "cell_type": "code",
   "execution_count": null,
   "metadata": {},
   "outputs": [],
   "source": [
    "test033 = Calcus(2, 2).addi()\n",
    "print(test033)\n",
    "test045 = Calcus(5, 5).subs()\n",
    "print(test045)\n",
    "print(Calcus(5, 5).mult_by2())\n"
   ]
  },
  {
   "cell_type": "code",
   "execution_count": null,
   "metadata": {},
   "outputs": [],
   "source": [
    "help(Calcus(2, 2))"
   ]
  }
 ],
 "metadata": {
  "kernelspec": {
   "display_name": "Python 3.10.6 64-bit",
   "language": "python",
   "name": "python3"
  },
  "language_info": {
   "name": "python",
   "version": "3.10.6"
  },
  "orig_nbformat": 4,
  "vscode": {
   "interpreter": {
    "hash": "369f2c481f4da34e4445cda3fffd2e751bd1c4d706f27375911949ba6bb62e1c"
   }
  }
 },
 "nbformat": 4,
 "nbformat_minor": 2
}
