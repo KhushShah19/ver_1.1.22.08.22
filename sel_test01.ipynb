{
 "cells": [
  {
   "cell_type": "code",
   "execution_count": null,
   "metadata": {},
   "outputs": [],
   "source": [
    "# Selenium imports\n",
    "from selenium import webdriver\n",
    "from selenium.webdriver.common.keys import Keys\n",
    "from selenium.webdriver.common.by import By\n",
    "from selenium.webdriver.support import expected_conditions as EC\n",
    "from selenium.webdriver.support.wait import WebDriverWait\n"
   ]
  },
  {
   "cell_type": "code",
   "execution_count": null,
   "metadata": {},
   "outputs": [],
   "source": [
    "#imports\n",
    "from selenium import webdriver\n",
    "from webdriver_manager.chrome import ChromeDriverManager"
   ]
  },
  {
   "cell_type": "code",
   "execution_count": null,
   "metadata": {},
   "outputs": [],
   "source": [
    "import os"
   ]
  },
  {
   "cell_type": "code",
   "execution_count": null,
   "metadata": {},
   "outputs": [],
   "source": [
    "import time"
   ]
  },
  {
   "cell_type": "code",
   "execution_count": null,
   "metadata": {},
   "outputs": [],
   "source": [
    "gp1 = 'C:/Users/2me41/Downloads/geckodriver-v0.31.0-win64.zip/chromedriver.exe'\n",
    "#driver = webdriver.Chrome(gp1)\n",
    "driv = webdriver.Chrome(ChromeDriverManager().install())"
   ]
  },
  {
   "cell_type": "code",
   "execution_count": null,
   "metadata": {},
   "outputs": [],
   "source": [
    "url = 'https://www.instagram.com/'\n",
    "driv.get(url)"
   ]
  },
  {
   "cell_type": "code",
   "execution_count": null,
   "metadata": {},
   "outputs": [],
   "source": [
    "username = WebDriverWait(driv, 10).until(EC.element_to_be_clickable((By.CSS_SELECTOR, \"input[name='username']\")))\n",
    "password = WebDriverWait(driv, 10).until(EC.element_to_be_clickable((By.CSS_SELECTOR, \"input[name='password']\")))\n",
    "\n",
    "username.clear()\n",
    "password.clear()\n",
    "\n",
    "username.send_keys(\"temp26feb\")\n",
    "password.send_keys(\"w4h7@6t9e\")\n"
   ]
  },
  {
   "cell_type": "code",
   "execution_count": null,
   "metadata": {},
   "outputs": [],
   "source": [
    " \n",
    "login = WebDriverWait(driv, 10).until(EC.element_to_be_clickable((By.CSS_SELECTOR, \"button[type='submit']\"))).click()"
   ]
  },
  {
   "cell_type": "code",
   "execution_count": null,
   "metadata": {},
   "outputs": [],
   "source": [
    "copied_xpath = '//*[@id=\"react-root\"]/section/main/div/div/div/div/button'\n",
    "not_now =  WebDriverWait(driv, 10).until(EC.element_to_be_clickable((By.XPATH, copied_xpath))).click()\n",
    "# 'Not Now' \n",
    "# # \"//button[contains(text(), 'Not Now')]\" now this will work "
   ]
  },
  {
   "cell_type": "code",
   "execution_count": null,
   "metadata": {},
   "outputs": [],
   "source": [
    "copied_xpath2 = '//*[@id=\"mount_0_0_5V\"]/div/div/div/div[2]/div/div/div[1]/div/div[2]/div/div/div/div/div/div/div/div[3]/button[2]'\n",
    "not_now2 =  WebDriverWait(driv, 10).until(EC.element_to_be_clickable((By.XPATH, copied_xpath2))).click()\n",
    "# 'Not Now' 2"
   ]
  },
  {
   "cell_type": "code",
   "execution_count": null,
   "metadata": {},
   "outputs": [],
   "source": [
    "# for searching anything \n",
    "searchbox = WebDriverWait(driv, 10).until(EC.element_to_be_clickable((By.XPATH, \"//input[@placeholder='Search']\")))\n",
    "searchbox.clear()\n",
    "to_search_for = '#abstractart'\n",
    "searchbox.send_keys(to_search_for)"
   ]
  },
  {
   "cell_type": "code",
   "execution_count": null,
   "metadata": {},
   "outputs": [],
   "source": [
    "# to click enter\n",
    "searchbox.send_keys(Keys.ENTER)"
   ]
  },
  {
   "cell_type": "code",
   "execution_count": null,
   "metadata": {},
   "outputs": [],
   "source": [
    "searchbox.send_keys(Keys.ENTER)"
   ]
  },
  {
   "cell_type": "code",
   "execution_count": null,
   "metadata": {},
   "outputs": [],
   "source": [
    "driv.execute_script(\"window.scrollTo(0,1500);\")\n",
    "\n"
   ]
  },
  {
   "cell_type": "code",
   "execution_count": null,
   "metadata": {},
   "outputs": [],
   "source": [
    "my_imag = WebDriverWait(driv, 10).until(EC.element_to_be_clickable((By.XPATH, \"//img[@crossorigin='anonymous' and not(@srcset)]\")))\n",
    "my_imag.get_attribute('src')"
   ]
  },
  {
   "cell_type": "code",
   "execution_count": null,
   "metadata": {},
   "outputs": [],
   "source": [
    "only_img = \"//img[@crossorigin='anonymous' and not(@srcset)]\"\n",
    "#my_immm = WebDriverWait(driv, 10).until(EC.element_to_be_clickable((By.XPATH, only_img))).get_attribute('src')\n",
    "#mkmk = driv.find_elements((By.XPATH, only_img))\n",
    "#EC.presence_of_all_elements_located\n",
    "my_immm = WebDriverWait(driv, 10).until(EC.presence_of_all_elements_located((By.XPATH, only_img)))"
   ]
  },
  {
   "cell_type": "code",
   "execution_count": null,
   "metadata": {},
   "outputs": [],
   "source": [
    "len(my_immm)"
   ]
  },
  {
   "cell_type": "code",
   "execution_count": null,
   "metadata": {},
   "outputs": [],
   "source": [
    "my_immm = [i.get_attribute('src') for i in my_immm]"
   ]
  },
  {
   "cell_type": "code",
   "execution_count": null,
   "metadata": {},
   "outputs": [],
   "source": [
    "# going to home page\n",
    "home_page = WebDriverWait(driv, 10).until(EC.element_to_be_clickable((By.XPATH, \"//*[@aria-label = 'Home']\"))).click()\n"
   ]
  },
  {
   "cell_type": "code",
   "execution_count": null,
   "metadata": {},
   "outputs": [],
   "source": [
    "# after opening image \n",
    "# //span[@aria-lable='Like']  ==> CSS = svg[aria-label=\"Like\"]\n",
    "\n",
    "press_like = WebDriverWait(driv, 10).until(EC.element_to_be_clickable((By.XPATH, \"//span[@class='_aamw']\"))).click()\n",
    "#press_like = WebDriverWait(driv, 10).until(EC.element_to_be_clickable((By.CSS_SELECTOR, \"button[type='button']\"))).click()\n"
   ]
  },
  {
   "cell_type": "code",
   "execution_count": null,
   "metadata": {},
   "outputs": [],
   "source": [
    "# commenting on post\n",
    "\n",
    "commenting = WebDriverWait(driv, 10).until(EC.element_to_be_clickable((By.CSS_SELECTOR, \"textarea[placeholder='Add a comment…']\"))).click()\n",
    "#commenting.clear()"
   ]
  },
  {
   "cell_type": "code",
   "execution_count": null,
   "metadata": {},
   "outputs": [],
   "source": [
    "# writing comment\n",
    "WebDriverWait(driv, 10).until(EC.element_to_be_clickable((By.CSS_SELECTOR, \"textarea[placeholder='Add a comment…']\"))).send_keys(\"Wow\")\n",
    "\n",
    "# posting comment\n",
    "WebDriverWait(driv, 10).until(EC.element_to_be_clickable((By.CSS_SELECTOR, \"button[type='submit']\"))).click()"
   ]
  },
  {
   "cell_type": "code",
   "execution_count": null,
   "metadata": {},
   "outputs": [],
   "source": [
    "# xpath - //div[@class=\"_aabd _aa8k _aanf\"]\n",
    "\n",
    "required_images = WebDriverWait(driv, 10).until(EC.presence_of_all_elements_located((By.XPATH, '//div[@class=\"_aabd _aa8k _aanf\"]'))) \n",
    "required_images = [i.get_attribute('href') for i in required_images]\n"
   ]
  },
  {
   "cell_type": "code",
   "execution_count": null,
   "metadata": {},
   "outputs": [],
   "source": [
    "len(required_images)"
   ]
  },
  {
   "cell_type": "code",
   "execution_count": null,
   "metadata": {},
   "outputs": [],
   "source": [
    "driv.execute_script(\"window.scrollTo(0, 1900)\") \n",
    "time.sleep(10)\n",
    "driv.execute_script(\"window.scrollTo(1900, 2800)\") \n",
    "#label.sendKeys(Keys.PAGE_DOWN);"
   ]
  },
  {
   "cell_type": "code",
   "execution_count": null,
   "metadata": {},
   "outputs": [],
   "source": [
    "driv.execute_script(\"window.scrollTo(0, document.body.scrollheight);\")\n",
    "# to scroll to the bottom of the page"
   ]
  },
  {
   "cell_type": "code",
   "execution_count": null,
   "metadata": {},
   "outputs": [],
   "source": [
    "driv.close() # to close drive"
   ]
  }
 ],
 "metadata": {
  "kernelspec": {
   "display_name": "Python 3.10.6 64-bit",
   "language": "python",
   "name": "python3"
  },
  "language_info": {
   "codemirror_mode": {
    "name": "ipython",
    "version": 3
   },
   "file_extension": ".py",
   "mimetype": "text/x-python",
   "name": "python",
   "nbconvert_exporter": "python",
   "pygments_lexer": "ipython3",
   "version": "3.10.6"
  },
  "orig_nbformat": 4,
  "vscode": {
   "interpreter": {
    "hash": "369f2c481f4da34e4445cda3fffd2e751bd1c4d706f27375911949ba6bb62e1c"
   }
  }
 },
 "nbformat": 4,
 "nbformat_minor": 2
}
