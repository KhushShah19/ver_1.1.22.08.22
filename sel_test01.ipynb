{
 "cells": [
  {
   "cell_type": "code",
   "execution_count": 25,
   "metadata": {},
   "outputs": [],
   "source": [
    "# Selenium imports\n",
    "from selenium import webdriver\n",
    "from selenium.webdriver.common.keys import Keys\n",
    "from selenium.webdriver.common.by import By\n",
    "from selenium.webdriver.support import expected_conditions as EC\n",
    "from selenium.webdriver.support.wait import WebDriverWait\n"
   ]
  },
  {
   "cell_type": "code",
   "execution_count": 26,
   "metadata": {},
   "outputs": [],
   "source": [
    "#imports\n",
    "from selenium import webdriver\n",
    "from webdriver_manager.chrome import ChromeDriverManager"
   ]
  },
  {
   "cell_type": "code",
   "execution_count": 27,
   "metadata": {},
   "outputs": [],
   "source": [
    "import os"
   ]
  },
  {
   "cell_type": "code",
   "execution_count": 31,
   "metadata": {},
   "outputs": [
    {
     "name": "stderr",
     "output_type": "stream",
     "text": [
      "[WDM] - Downloading: 100%|██████████| 6.21M/6.21M [00:06<00:00, 987kB/s] \n",
      "C:\\Users\\2me41\\AppData\\Local\\Temp\\ipykernel_6940\\2990168770.py:3: DeprecationWarning: executable_path has been deprecated, please pass in a Service object\n",
      "  driv = webdriver.Chrome(ChromeDriverManager().install())\n"
     ]
    }
   ],
   "source": [
    "gp1 = 'C:/Users/2me41/Downloads/geckodriver-v0.31.0-win64.zip/chromedriver.exe'\n",
    "#driver = webdriver.Chrome(gp1)\n",
    "driv = webdriver.Chrome(ChromeDriverManager().install())"
   ]
  },
  {
   "cell_type": "code",
   "execution_count": 33,
   "metadata": {},
   "outputs": [],
   "source": [
    "url = 'https://www.instagram.com/'\n",
    "driv.get(url)"
   ]
  },
  {
   "cell_type": "code",
   "execution_count": 34,
   "metadata": {},
   "outputs": [],
   "source": [
    "username = WebDriverWait(driv, 10).until(EC.element_to_be_clickable((By.CSS_SELECTOR, \"input[name='username']\")))\n",
    "password = WebDriverWait(driv, 10).until(EC.element_to_be_clickable((By.CSS_SELECTOR, \"input[name='password']\")))\n",
    "\n",
    "username.clear()\n",
    "password.clear()\n",
    "\n",
    "username.send_keys(\"temp26feb\")\n",
    "password.send_keys(\"w4h7@6t9e\")\n"
   ]
  },
  {
   "cell_type": "code",
   "execution_count": 35,
   "metadata": {},
   "outputs": [],
   "source": [
    " \n",
    "login = WebDriverWait(driv, 10).until(EC.element_to_be_clickable((By.CSS_SELECTOR, \"button[type='submit']\"))).click()\n"
   ]
  },
  {
   "cell_type": "code",
   "execution_count": 43,
   "metadata": {},
   "outputs": [],
   "source": [
    "copied_xpath = '//*[@id=\"react-root\"]/section/main/div/div/div/div/button'\n",
    "not_now =  WebDriverWait(driv, 10).until(EC.element_to_be_clickable((By.XPATH, copied_xpath))).click()\n",
    "# 'Not Now' \n",
    "# # \"//button[contains(text(), 'Not Now')]\" now this will work "
   ]
  },
  {
   "cell_type": "code",
   "execution_count": 44,
   "metadata": {},
   "outputs": [],
   "source": [
    "copied_xpath2 = '//*[@id=\"mount_0_0_5V\"]/div/div/div/div[2]/div/div/div[1]/div/div[2]/div/div/div/div/div/div/div/div[3]/button[2]'\n",
    "not_now2 =  WebDriverWait(driv, 10).until(EC.element_to_be_clickable((By.XPATH, copied_xpath2))).click()\n",
    "# 'Not Now' 2"
   ]
  },
  {
   "cell_type": "code",
   "execution_count": 86,
   "metadata": {},
   "outputs": [],
   "source": [
    "# for searching anything \n",
    "searchbox = WebDriverWait(driv, 10).until(EC.element_to_be_clickable((By.XPATH, \"//input[@placeholder='Search']\")))\n",
    "searchbox.clear()\n",
    "to_search_for = '#abstractart'\n",
    "searchbox.send_keys(to_search_for)"
   ]
  },
  {
   "cell_type": "code",
   "execution_count": 88,
   "metadata": {},
   "outputs": [],
   "source": [
    "# to click enter\n",
    "searchbox.send_keys(Keys.ENTER)"
   ]
  },
  {
   "cell_type": "code",
   "execution_count": 47,
   "metadata": {},
   "outputs": [],
   "source": [
    "searchbox.send_keys(Keys.ENTER)"
   ]
  },
  {
   "cell_type": "code",
   "execution_count": 50,
   "metadata": {},
   "outputs": [],
   "source": [
    "driv.execute_script(\"window.scrollTo(0,1500);\")\n",
    "\n"
   ]
  },
  {
   "cell_type": "code",
   "execution_count": 55,
   "metadata": {},
   "outputs": [
    {
     "data": {
      "text/plain": [
       "'https://instagram.fbho1-4.fna.fbcdn.net/v/t51.2885-19/298508714_102355452558405_4180585530521597774_n.jpg?stp=dst-jpg_s320x320&_nc_ht=instagram.fbho1-4.fna.fbcdn.net&_nc_cat=1&_nc_ohc=zqwzChfxOnUAX-gSkJA&edm=AOQ1c0wBAAAA&ccb=7-5&oh=00_AT_rdQIecwUws_4keTiPaK0iJEUEKzTCmo3ag_jAOXRzcA&oe=62FA4F1B&_nc_sid=8fd12b'"
      ]
     },
     "execution_count": 55,
     "metadata": {},
     "output_type": "execute_result"
    }
   ],
   "source": [
    "my_imag = WebDriverWait(driv, 10).until(EC.element_to_be_clickable((By.XPATH, \"//img[@crossorigin='anonymous' and not(@srcset)]\")))\n",
    "my_imag.get_attribute('src')"
   ]
  },
  {
   "cell_type": "code",
   "execution_count": 70,
   "metadata": {},
   "outputs": [
    {
     "ename": "AttributeError",
     "evalue": "'list' object has no attribute 'get_attribute'",
     "output_type": "error",
     "traceback": [
      "\u001b[1;31m---------------------------------------------------------------------------\u001b[0m",
      "\u001b[1;31mAttributeError\u001b[0m                            Traceback (most recent call last)",
      "\u001b[1;32mc:\\VS_Code_folder\\Selenium_test\\sel_test01.ipynb Cell 19\u001b[0m in \u001b[0;36m<cell line: 5>\u001b[1;34m()\u001b[0m\n\u001b[0;32m      <a href='vscode-notebook-cell:/c%3A/VS_Code_folder/Selenium_test/sel_test01.ipynb#ch0000022?line=0'>1</a>\u001b[0m only_img \u001b[39m=\u001b[39m \u001b[39m\"\u001b[39m\u001b[39m//img[@crossorigin=\u001b[39m\u001b[39m'\u001b[39m\u001b[39manonymous\u001b[39m\u001b[39m'\u001b[39m\u001b[39m and not(@srcset)]\u001b[39m\u001b[39m\"\u001b[39m\n\u001b[0;32m      <a href='vscode-notebook-cell:/c%3A/VS_Code_folder/Selenium_test/sel_test01.ipynb#ch0000022?line=1'>2</a>\u001b[0m \u001b[39m#my_immm = WebDriverWait(driv, 10).until(EC.element_to_be_clickable((By.XPATH, only_img))).get_attribute('src')\u001b[39;00m\n\u001b[0;32m      <a href='vscode-notebook-cell:/c%3A/VS_Code_folder/Selenium_test/sel_test01.ipynb#ch0000022?line=2'>3</a>\u001b[0m \u001b[39m#mkmk = driv.find_elements((By.XPATH, only_img))\u001b[39;00m\n\u001b[0;32m      <a href='vscode-notebook-cell:/c%3A/VS_Code_folder/Selenium_test/sel_test01.ipynb#ch0000022?line=3'>4</a>\u001b[0m \u001b[39m#EC.presence_of_all_elements_located\u001b[39;00m\n\u001b[1;32m----> <a href='vscode-notebook-cell:/c%3A/VS_Code_folder/Selenium_test/sel_test01.ipynb#ch0000022?line=4'>5</a>\u001b[0m my_immm \u001b[39m=\u001b[39m WebDriverWait(driv, \u001b[39m10\u001b[39;49m)\u001b[39m.\u001b[39;49muntil(EC\u001b[39m.\u001b[39;49mpresence_of_all_elements_located((By\u001b[39m.\u001b[39;49mXPATH, only_img)))\u001b[39m.\u001b[39;49mget_attribute(\u001b[39m'\u001b[39m\u001b[39msrc\u001b[39m\u001b[39m'\u001b[39m)\n",
      "\u001b[1;31mAttributeError\u001b[0m: 'list' object has no attribute 'get_attribute'"
     ]
    }
   ],
   "source": [
    "only_img = \"//img[@crossorigin='anonymous' and not(@srcset)]\"\n",
    "#my_immm = WebDriverWait(driv, 10).until(EC.element_to_be_clickable((By.XPATH, only_img))).get_attribute('src')\n",
    "#mkmk = driv.find_elements((By.XPATH, only_img))\n",
    "#EC.presence_of_all_elements_located\n",
    "my_immm = WebDriverWait(driv, 10).until(EC.presence_of_all_elements_located((By.XPATH, only_img)))"
   ]
  },
  {
   "cell_type": "code",
   "execution_count": 68,
   "metadata": {},
   "outputs": [
    {
     "data": {
      "text/plain": [
       "25"
      ]
     },
     "execution_count": 68,
     "metadata": {},
     "output_type": "execute_result"
    }
   ],
   "source": [
    "len(my_immm)"
   ]
  },
  {
   "cell_type": "code",
   "execution_count": 74,
   "metadata": {},
   "outputs": [],
   "source": [
    "my_immm = [i.get_attribute('src') for i in my_immm]"
   ]
  },
  {
   "cell_type": "code",
   "execution_count": 85,
   "metadata": {},
   "outputs": [],
   "source": [
    "# going to home page\n",
    "home_page = WebDriverWait(driv, 10).until(EC.element_to_be_clickable((By.XPATH, \"//*[@aria-label = 'Home']\"))).click()\n"
   ]
  },
  {
   "cell_type": "code",
   "execution_count": 89,
   "metadata": {},
   "outputs": [
    {
     "data": {
      "text/plain": [
       "[<selenium.webdriver.remote.webelement.WebElement (session=\"c5dda40f45c2188f80238ac43f6e3874\", element=\"d1e64d16-4128-44e4-b91f-272028f45511\")>,\n",
       " <selenium.webdriver.remote.webelement.WebElement (session=\"c5dda40f45c2188f80238ac43f6e3874\", element=\"346d363e-f058-43a6-9d21-103dc0058693\")>]"
      ]
     },
     "execution_count": 89,
     "metadata": {},
     "output_type": "execute_result"
    }
   ],
   "source": [
    "# //h2[@class=\"_aanc\" or contains(@text=\"Most recent\")] # still working\n",
    "most_recent = '//*[@id=\"mount_0_0_5V\"]/div/div/div/div[1]/div/div/div/div[1]/div[1]/section/main/article/h2'\n",
    "most_re = WebDriverWait(driv, 10).until(EC.presence_of_all_elements_located((By.XPATH, \"//*[@class='_aanc']\")))\n",
    "most_re"
   ]
  },
  {
   "cell_type": "code",
   "execution_count": 82,
   "metadata": {},
   "outputs": [],
   "source": []
  },
  {
   "cell_type": "code",
   "execution_count": 90,
   "metadata": {},
   "outputs": [],
   "source": [
    "#finding image\n",
    "image_path = '//*[@id=\"mount_0_0_5V\"]/div/div/div/div[1]/div/div/div/div[1]/div[1]/section/main/article/div[2]/div/div[1]/div[1]/a'\n",
    "found_image = WebDriverWait(driv, 10).until(EC.element_to_be_clickable((By.XPATH, image_path))).click()"
   ]
  },
  {
   "cell_type": "code",
   "execution_count": 95,
   "metadata": {},
   "outputs": [],
   "source": [
    "# after opening image \n",
    "# //span[@aria-lable='Like']  ==> CSS = svg[aria-label=\"Like\"]\n",
    "\n",
    "press_like = WebDriverWait(driv, 10).until(EC.element_to_be_clickable((By.XPATH, \"//span[@class='_aamw']\"))).click()\n",
    "#press_like = WebDriverWait(driv, 10).until(EC.element_to_be_clickable((By.CSS_SELECTOR, \"button[type='button']\"))).click()\n"
   ]
  },
  {
   "cell_type": "code",
   "execution_count": 102,
   "metadata": {},
   "outputs": [],
   "source": [
    "# commenting on post\n",
    "\n",
    "commenting = WebDriverWait(driv, 10).until(EC.element_to_be_clickable((By.CSS_SELECTOR, \"textarea[placeholder='Add a comment…']\"))).click()\n",
    "#commenting.clear()\n",
    "\n"
   ]
  },
  {
   "cell_type": "code",
   "execution_count": 105,
   "metadata": {},
   "outputs": [],
   "source": [
    "WebDriverWait(driv, 10).until(EC.element_to_be_clickable((By.CSS_SELECTOR, \"textarea[placeholder='Add a comment…']\"))).send_keys(\"Wow\")"
   ]
  },
  {
   "cell_type": "code",
   "execution_count": 106,
   "metadata": {},
   "outputs": [],
   "source": [
    "# posting comment\n",
    "WebDriverWait(driv, 10).until(EC.element_to_be_clickable((By.CSS_SELECTOR, \"button[type='submit']\"))).click()"
   ]
  },
  {
   "cell_type": "code",
   "execution_count": 108,
   "metadata": {},
   "outputs": [],
   "source": [
    "# xpath - //div[@class=\"_aabd _aa8k _aanf\"]\n",
    "\n",
    "required_images = WebDriverWait(driv, 10).until(EC.presence_of_all_elements_located((By.XPATH, '//div[@class=\"_aabd _aa8k _aanf\"]'))) \n",
    "required_images = ['https://www.instagram.com' + str(i.get_attribute('href')) for i in required_images]\n"
   ]
  },
  {
   "cell_type": "code",
   "execution_count": 109,
   "metadata": {},
   "outputs": [
    {
     "data": {
      "text/plain": [
       "42"
      ]
     },
     "execution_count": 109,
     "metadata": {},
     "output_type": "execute_result"
    }
   ],
   "source": [
    "len(required_images)"
   ]
  },
  {
   "cell_type": "code",
   "execution_count": 111,
   "metadata": {},
   "outputs": [],
   "source": [
    "import time"
   ]
  },
  {
   "cell_type": "code",
   "execution_count": 122,
   "metadata": {},
   "outputs": [],
   "source": [
    "driv.execute_script(\"window.scrollTo(0, 1900)\") \n",
    "time.sleep(10)\n",
    "driv.execute_script(\"window.scrollTo(1900, 2800)\") \n",
    "#label.sendKeys(Keys.PAGE_DOWN);"
   ]
  },
  {
   "cell_type": "code",
   "execution_count": 134,
   "metadata": {},
   "outputs": [],
   "source": [
    "for i in [0, 1, 2]:\n",
    "    driv.execute_script(\"window.scrollTo((i)*1000, (i+1)*1000);\") \n",
    "    time.sleep(5)"
   ]
  },
  {
   "cell_type": "code",
   "execution_count": 135,
   "metadata": {},
   "outputs": [],
   "source": [
    "driv.execute_script(\"window.scrollTo(0, document.body.scrollheight);\")\n"
   ]
  },
  {
   "cell_type": "code",
   "execution_count": 130,
   "metadata": {},
   "outputs": [],
   "source": [
    "roller = driv.execute_script(\"window.scrollTo(0, document.body.scrollheight)\") \n",
    "roller "
   ]
  },
  {
   "cell_type": "code",
   "execution_count": 132,
   "metadata": {},
   "outputs": [],
   "source": [
    "driv.execute_script(\"return document.body.scrollheight\")"
   ]
  },
  {
   "cell_type": "code",
   "execution_count": 128,
   "metadata": {},
   "outputs": [
    {
     "name": "stdout",
     "output_type": "stream",
     "text": [
      "done\n"
     ]
    }
   ],
   "source": [
    "height_new = driv.execute_script(\"return document.body.scrollheight\") \n",
    "height_new\n",
    "print('done')"
   ]
  },
  {
   "cell_type": "code",
   "execution_count": 129,
   "metadata": {},
   "outputs": [
    {
     "name": "stdout",
     "output_type": "stream",
     "text": [
      "None\n"
     ]
    }
   ],
   "source": [
    "print(height_new)"
   ]
  },
  {
   "cell_type": "code",
   "execution_count": 136,
   "metadata": {},
   "outputs": [],
   "source": [
    "driv.close()"
   ]
  }
 ],
 "metadata": {
  "kernelspec": {
   "display_name": "Python 3.10.6 64-bit",
   "language": "python",
   "name": "python3"
  },
  "language_info": {
   "codemirror_mode": {
    "name": "ipython",
    "version": 3
   },
   "file_extension": ".py",
   "mimetype": "text/x-python",
   "name": "python",
   "nbconvert_exporter": "python",
   "pygments_lexer": "ipython3",
   "version": "3.10.6"
  },
  "orig_nbformat": 4,
  "vscode": {
   "interpreter": {
    "hash": "369f2c481f4da34e4445cda3fffd2e751bd1c4d706f27375911949ba6bb62e1c"
   }
  }
 },
 "nbformat": 4,
 "nbformat_minor": 2
}
