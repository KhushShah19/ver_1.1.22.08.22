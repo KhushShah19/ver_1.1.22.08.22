{
 "cells": [
  {
   "cell_type": "code",
   "execution_count": null,
   "metadata": {},
   "outputs": [],
   "source": [
    "# Selenium imports\n",
    "from selenium import webdriver\n",
    "from selenium.webdriver.common.keys import Keys\n",
    "from selenium.webdriver.common.by import By\n",
    "from selenium.webdriver.support import expected_conditions as EC\n",
    "from selenium.webdriver.support.wait import WebDriverWait\n",
    "\n",
    "# other imports\n",
    "import os\n",
    "import wget # to save images to computer\n",
    "from webdriver_manager.chrome import ChromeDriverManager"
   ]
  },
  {
   "cell_type": "code",
   "execution_count": null,
   "metadata": {},
   "outputs": [],
   "source": [
    "# make drive install or can make it read the path\n",
    "# C:\\Users\\2me41\\AppData\\Local\\Temp\\ipykernel_6940\\2990168770.py:3\n",
    "\n",
    "driv = webdriver.Chrome(ChromeDriverManager().install())\n",
    "\n",
    "# tell drive which url to open\n",
    "url = 'https://www.instagram.com/'\n",
    "driv.get(url)"
   ]
  },
  {
   "cell_type": "code",
   "execution_count": null,
   "metadata": {},
   "outputs": [],
   "source": [
    "# trying to login into page (using By css selector)\n",
    "username = WebDriverWait(driv, 10).until(EC.element_to_be_clickable((By.CSS_SELECTOR, \"input[name='username']\")))\n",
    "password = WebDriverWait(driv, 10).until(EC.element_to_be_clickable((By.CSS_SELECTOR, \"input[name='password']\")))\n",
    "\n",
    "username.clear()\n",
    "password.clear()\n",
    "\n",
    "username.send_keys(\"temp26feb\")\n",
    "password.send_keys(\"w4h7@6t9e\")\n",
    "\n",
    "# Clicking the login button\n",
    "login = WebDriverWait(driv, 10).until(EC.element_to_be_clickable((By.CSS_SELECTOR, \"button[type='submit']\"))).click()"
   ]
  },
  {
   "cell_type": "code",
   "execution_count": null,
   "metadata": {},
   "outputs": [],
   "source": [
    "# don't wanna save info (passing more 2 pages)\n",
    "not_now =  WebDriverWait(driv, 10).until(EC.element_to_be_clickable((By.XPATH, \"//button[contains(text(), 'Not Now')]\"))).click()\n",
    "not_now2 =  WebDriverWait(driv, 10).until(EC.element_to_be_clickable((By.XPATH, \"//button[contains(text(), 'Not Now')]\"))).click()\n"
   ]
  },
  {
   "cell_type": "code",
   "execution_count": null,
   "metadata": {},
   "outputs": [],
   "source": [
    "# after opening insta, we search the user \n",
    "searchbox = WebDriverWait(driv, 10).until(EC.element_to_be_clickable((By.XPATH, \"//input[@placeholder='Search']\")))\n",
    "searchbox.clear()\n",
    "to_search_for = 'anushkasen0408' # one we wanna to search for\n",
    "searchbox.send_keys(to_search_for)"
   ]
  },
  {
   "cell_type": "code",
   "execution_count": null,
   "metadata": {},
   "outputs": [],
   "source": [
    "# to click enter\n",
    "searchbox.send_keys(Keys.ENTER)"
   ]
  },
  {
   "cell_type": "code",
   "execution_count": null,
   "metadata": {},
   "outputs": [],
   "source": [
    "# might not work in one go\n",
    "searchbox.send_keys(Keys.ENTER)"
   ]
  },
  {
   "cell_type": "code",
   "execution_count": null,
   "metadata": {},
   "outputs": [],
   "source": [
    "# extracting the dp link \n",
    "my_imag = WebDriverWait(driv, 10).until(EC.element_to_be_clickable((By.XPATH, \"//img[@crossorigin='anonymous']\"))).get_attribute('src')\n",
    "my_imag"
   ]
  },
  {
   "cell_type": "code",
   "execution_count": null,
   "metadata": {},
   "outputs": [],
   "source": [
    "# saving images to computer\n",
    "imag_path = r'C:\\Users\\2me41\\Pictures\\anu_img' # path where to save\n",
    "save_as = os.path.join(imag_path, to_search_for + '_dp' + '.jpg') # path and name of image\n",
    "wget.download(my_imag, save_as) # downloading image using url link\n",
    "print('DP Downloaded')"
   ]
  },
  {
   "cell_type": "code",
   "execution_count": null,
   "metadata": {},
   "outputs": [],
   "source": []
  },
  {
   "cell_type": "code",
   "execution_count": null,
   "metadata": {},
   "outputs": [],
   "source": []
  }
 ],
 "metadata": {
  "kernelspec": {
   "display_name": "Python 3.10.6 64-bit",
   "language": "python",
   "name": "python3"
  },
  "language_info": {
   "name": "python",
   "version": "3.10.6"
  },
  "orig_nbformat": 4,
  "vscode": {
   "interpreter": {
    "hash": "369f2c481f4da34e4445cda3fffd2e751bd1c4d706f27375911949ba6bb62e1c"
   }
  }
 },
 "nbformat": 4,
 "nbformat_minor": 2
}
