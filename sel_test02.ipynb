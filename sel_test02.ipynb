{
 "cells": [
  {
   "cell_type": "code",
   "execution_count": null,
   "metadata": {},
   "outputs": [],
   "source": [
    "# Selenium imports\n",
    "from selenium import webdriver\n",
    "from selenium.webdriver.common.keys import Keys\n",
    "from selenium.webdriver.common.by import By\n",
    "from selenium.webdriver.support import expected_conditions as EC\n",
    "from selenium.webdriver.support.wait import WebDriverWait\n",
    "\n",
    "# other imports\n",
    "import os\n",
    "import random \n",
    "import time\n",
    "import wget # to save images to computer\n",
    "from webdriver_manager.chrome import ChromeDriverManager"
   ]
  },
  {
   "cell_type": "code",
   "execution_count": null,
   "metadata": {},
   "outputs": [],
   "source": [
    "wd_path = r'C:/Users/2me41/Downloads/chromedriver_win32(1)/chromedriver.exe'\n",
    "driv = webdriver.Chrome(wd_path)\n",
    "\n",
    "# tell drive which url to open\n",
    "url = 'https://www.instagram.com/'\n",
    "driv.get(url)"
   ]
  },
  {
   "cell_type": "code",
   "execution_count": null,
   "metadata": {},
   "outputs": [],
   "source": [
    "# trying to login into page (using By css selector)\n",
    "username = WebDriverWait(driv, 10).until(EC.element_to_be_clickable((By.CSS_SELECTOR, \"input[name='username']\")))\n",
    "password = WebDriverWait(driv, 10).until(EC.element_to_be_clickable((By.CSS_SELECTOR, \"input[name='password']\")))\n",
    "\n",
    "username.clear()\n",
    "password.clear()\n",
    "\n",
    "username.send_keys(\"riya26feb\") # your user name\n",
    "password.send_keys(\"w4h7@6t9e\") # your password\n",
    "\n",
    "# Clicking the login button\n",
    "login = WebDriverWait(driv, 10).until(EC.element_to_be_clickable((By.CSS_SELECTOR, \"button[type='submit']\"))).click()"
   ]
  },
  {
   "cell_type": "code",
   "execution_count": null,
   "metadata": {},
   "outputs": [],
   "source": [
    "# save your login info? Not Now\n",
    "not_now =  WebDriverWait(driv, 10).until(EC.element_to_be_clickable((By.XPATH, \"//button[contains(text(), 'Not Now')]\"))).click()\n",
    "\n",
    "time.sleep(2) # to wait for next page to load\n",
    "\n",
    "# turn on notification? Not Now\n",
    "not_now2 =  WebDriverWait(driv, 10).until(EC.element_to_be_clickable((By.XPATH, \"//button[contains(text(), 'Not Now')]\"))).click()"
   ]
  },
  {
   "cell_type": "code",
   "execution_count": null,
   "metadata": {},
   "outputs": [],
   "source": [
    "# xpath - //div[@class=\"_aabd _aa8k _aanf\" ]/a[@href]\n",
    "\n",
    "images_link = WebDriverWait(driv, 10).until(EC.presence_of_all_elements_located((By.XPATH, '//div[@class=\"_aabd _aa8k _aanf\" ]/a[@href]'))) \n",
    "images_link = [i.get_attribute('href') for i in images_link]\n",
    "len(images_link)\n"
   ]
  },
  {
   "cell_type": "code",
   "execution_count": null,
   "metadata": {},
   "outputs": [],
   "source": [
    "print(images_link[2])\n",
    "print(type(images_link[2]))"
   ]
  },
  {
   "cell_type": "code",
   "execution_count": null,
   "metadata": {},
   "outputs": [],
   "source": [
    "given_url = images_link[2]\n",
    "given_url"
   ]
  },
  {
   "cell_type": "code",
   "execution_count": null,
   "metadata": {},
   "outputs": [],
   "source": [
    "driv.execute_script(\"window.scrollTo(0,document.body.scrollHeight)\") # works\n",
    "time.sleep(3)\n",
    "\n",
    "# to scroll down and it works\n",
    "driv.execute_script(\"window.scrollTo(0, 1200)\")"
   ]
  },
  {
   "cell_type": "code",
   "execution_count": 3,
   "metadata": {},
   "outputs": [],
   "source": [
    "import time\n",
    "import random"
   ]
  },
  {
   "cell_type": "code",
   "execution_count": 4,
   "metadata": {},
   "outputs": [
    {
     "data": {
      "text/plain": [
       "1.6243"
      ]
     },
     "execution_count": 4,
     "metadata": {},
     "output_type": "execute_result"
    }
   ],
   "source": [
    "ran_float = float('{0:.4f}'.format(random.random()*(5)))\n",
    "ran_float"
   ]
  },
  {
   "cell_type": "code",
   "execution_count": 2,
   "metadata": {},
   "outputs": [
    {
     "ename": "NameError",
     "evalue": "name 'random' is not defined",
     "output_type": "error",
     "traceback": [
      "\u001b[1;31m---------------------------------------------------------------------------\u001b[0m",
      "\u001b[1;31mNameError\u001b[0m                                 Traceback (most recent call last)",
      "\u001b[1;32mc:\\VS_Code_folder\\Selenium_test\\sel_test02.ipynb Cell 10\u001b[0m in \u001b[0;36m<cell line: 2>\u001b[1;34m()\u001b[0m\n\u001b[0;32m      <a href='vscode-notebook-cell:/c%3A/VS_Code_folder/Selenium_test/sel_test02.ipynb#X13sZmlsZQ%3D%3D?line=0'>1</a>\u001b[0m sample_words \u001b[39m=\u001b[39m [\u001b[39m'\u001b[39m\u001b[39mlovely\u001b[39m\u001b[39m'\u001b[39m, \u001b[39m'\u001b[39m\u001b[39mpretty\u001b[39m\u001b[39m'\u001b[39m, \u001b[39m'\u001b[39m\u001b[39mappealing\u001b[39m\u001b[39m'\u001b[39m, \u001b[39m'\u001b[39m\u001b[39mgorgeous\u001b[39m\u001b[39m'\u001b[39m, \u001b[39m'\u001b[39m\u001b[39mengaging\u001b[39m\u001b[39m'\u001b[39m]\n\u001b[1;32m----> <a href='vscode-notebook-cell:/c%3A/VS_Code_folder/Selenium_test/sel_test02.ipynb#X13sZmlsZQ%3D%3D?line=1'>2</a>\u001b[0m \u001b[39mprint\u001b[39m(random\u001b[39m.\u001b[39mchoice(sample_words)) \u001b[39m# random from list\u001b[39;00m\n\u001b[0;32m      <a href='vscode-notebook-cell:/c%3A/VS_Code_folder/Selenium_test/sel_test02.ipynb#X13sZmlsZQ%3D%3D?line=3'>4</a>\u001b[0m ran_num \u001b[39m=\u001b[39m random\u001b[39m.\u001b[39mrandint(\u001b[39m1\u001b[39m, \u001b[39m5\u001b[39m)\n\u001b[0;32m      <a href='vscode-notebook-cell:/c%3A/VS_Code_folder/Selenium_test/sel_test02.ipynb#X13sZmlsZQ%3D%3D?line=4'>5</a>\u001b[0m ran_num \n",
      "\u001b[1;31mNameError\u001b[0m: name 'random' is not defined"
     ]
    }
   ],
   "source": [
    "sample_words = ['lovely', 'pretty', 'appealing', 'gorgeous', 'engaging']\n",
    "print(random.choice(sample_words)) # random from list\n",
    "\n",
    "ran_num = random.randint(1, 5)\n",
    "ran_num \n",
    "ran_float = float('{0:.4f}'.format(random.random()*(5)))\n",
    "ran_float # random float number"
   ]
  },
  {
   "cell_type": "code",
   "execution_count": null,
   "metadata": {},
   "outputs": [],
   "source": [
    "driv.back() \n",
    "driv.forward()  # not working"
   ]
  },
  {
   "cell_type": "code",
   "execution_count": null,
   "metadata": {},
   "outputs": [],
   "source": [
    "driv.execute_script('''window.open(\"http://google.com\",\"_blank\");''')\n",
    "driv.execute_script('''window.open(\"http://google.com\");''') # to open new window with google\n",
    "\n",
    "driv.execute_script('''window.open(\"https://www.instagram.com\");''') # worked\n",
    "\n",
    "driv.get(given_url) # worked\n",
    "\n",
    "a = driv.execute_script(\"window.open('https://www.instagram.com');\") # worked\n",
    "driv.get(a)\n",
    "\n",
    "driv.switch_to.new_window(\"tab\") # worked\n",
    "driv.get(given_url) # worked"
   ]
  },
  {
   "cell_type": "code",
   "execution_count": null,
   "metadata": {},
   "outputs": [],
   "source": [
    "# //span[@aria-lable='Like']  ==> CSS = svg[aria-label=\"Like\"]\n",
    "press_like = WebDriverWait(driv, 10).until(EC.element_to_be_clickable((By.XPATH, '//span[@class=\"_aamw\"]/button'))).click()\n",
    "# pressing like button"
   ]
  },
  {
   "cell_type": "code",
   "execution_count": null,
   "metadata": {},
   "outputs": [],
   "source": [
    "press_like = WebDriverWait(driv, 10).until(EC.presence_of_element_located((By.XPATH, '//span[@class=\"_aamw\"]/button/div/span')))\n",
    "press_like.click()\n"
   ]
  },
  {
   "cell_type": "code",
   "execution_count": null,
   "metadata": {},
   "outputs": [],
   "source": [
    "# pressing like button\n",
    "WebDriverWait(driv, 10).until(EC.presence_of_element_located((By.XPATH, '//span[@class=\"_aamw\"]/button/div/span'))).click()\n"
   ]
  },
  {
   "cell_type": "code",
   "execution_count": null,
   "metadata": {},
   "outputs": [],
   "source": [
    "# not working"
   ]
  },
  {
   "cell_type": "code",
   "execution_count": null,
   "metadata": {},
   "outputs": [],
   "source": [
    "# 'https://www.instagram.com/p/ChUpmgXLjCz/'  => into the link\n",
    "# 'https://www.instagram/'  => to come back to home page\n",
    "\n",
    "driv.get('https://www.instagram.com/p/ChUpmgXLjCz/')\n"
   ]
  },
  {
   "cell_type": "code",
   "execution_count": null,
   "metadata": {},
   "outputs": [],
   "source": []
  }
 ],
 "metadata": {
  "kernelspec": {
   "display_name": "Python 3.10.6 64-bit",
   "language": "python",
   "name": "python3"
  },
  "language_info": {
   "codemirror_mode": {
    "name": "ipython",
    "version": 3
   },
   "file_extension": ".py",
   "mimetype": "text/x-python",
   "name": "python",
   "nbconvert_exporter": "python",
   "pygments_lexer": "ipython3",
   "version": "3.10.6"
  },
  "orig_nbformat": 4,
  "vscode": {
   "interpreter": {
    "hash": "369f2c481f4da34e4445cda3fffd2e751bd1c4d706f27375911949ba6bb62e1c"
   }
  }
 },
 "nbformat": 4,
 "nbformat_minor": 2
}
